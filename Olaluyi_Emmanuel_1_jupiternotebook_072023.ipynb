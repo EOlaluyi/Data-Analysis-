{
 "cells": [
  {
   "cell_type": "markdown",
   "id": "38bcec7a-f9ab-48e8-9553-e9ded639a576",
   "metadata": {},
   "source": [
    "# Trees in Camden\n",
    "Use this notebook to complete your analysis.\n",
    "Enter code and comments after the TODOs.\n",
    "\n",
    "There are some code cells completed for you.  These are highlighted with a <font style=\"color:crimson;background-color:lemonchiffon\">TODO</font> comment.  You can use these to guide the subsequent tasks.  Other cells require you to read documentation or search for answers.  The markdown comments give you links to some useful documentation and articles.  Read the documentation, look at the examples provided in the documentation and then try to apply them to your data.\n",
    "\n",
    "Remember that you can find information on the pandas functions on the Pandas website https://pandas.pydata.org/pandas-docs/stable/reference/frame.html or directly in the notebook by puttin a ? before or after the function name. for instance: `?df.head()` or `df['Maturity'].value_counts()?`"
   ]
  },
  {
   "cell_type": "markdown",
   "id": "71f2c016-f440-4601-8262-1d814315d1bb",
   "metadata": {},
   "source": [
    "## Imports\n",
    "Import the libraries we need to perform the analysis."
   ]
  },
  {
   "cell_type": "code",
   "execution_count": 1,
   "id": "26c7393c-3a3f-4224-8c88-10aa58310351",
   "metadata": {},
   "outputs": [],
   "source": [
    "import pandas as pd"
   ]
  },
  {
   "cell_type": "markdown",
   "id": "ddcf618b-a928-498c-b07e-991c7eb09bb7",
   "metadata": {
    "tags": [],
    "toc-hr-collapsed": true
   },
   "source": [
    "## Task 2: Load Data and Perform Initial Exploration\n",
    "Load the data from the supplied data files.  The files are in different **file formats**, but Pandas can handle this.\n",
    "\n",
    "You should read the data in using the appropriate function:\n",
    "\n",
    "- [pandas.read_excel](https://pandas.pydata.org/pandas-docs/stable/reference/api/pandas.read_excel.html)\n",
    "- [pandas.read_csv](https://pandas.pydata.org/docs/reference/api/pandas.read_csv.html)\n",
    "- [pandas.read_json](https://pandas.pydata.org/pandas-docs/version/0.23.4/generated/pandas.read_json.html)\n",
    "\n",
    "You can then inspect the first few rows of the loaded dataframe:\n",
    "\n",
    "[pandas.DataFrame.head](https://pandas.pydata.org/docs/reference/api/pandas.DataFrame.head.html)\n",
    "\n",
    "You can get the number of rows and columns:\n",
    "\n",
    "[pandas.DataFrame.shape](https://pandas.pydata.org/pandas-docs/stable/reference/api/pandas.DataFrame.shape.html)\n",
    "\n",
    "You can get the list of column names:\n",
    "\n",
    "[pandas.DataFrame.columns](https://pandas.pydata.org/docs/reference/api/pandas.DataFrame.columns.html)\n",
    "\n",
    "And you can list the data types of the columns:\n",
    "\n",
    "[pandas.DataFrames.dtypes](https://pandas.pydata.org/pandas-docs/stable/reference/api/pandas.DataFrame.dtypes.html)\n",
    "\n",
    "I've done the first one (loading `\"camden_trees.xlsx\"`) for you.  Please load `\"camden_trees_environmental.csv\"` and `\"tree_common_names.json\"` and analyse them in the same way.\n"
   ]
  },
  {
   "cell_type": "markdown",
   "id": "be1b77e3-ef79-49da-a896-dafbc51a3e10",
   "metadata": {},
   "source": [
    "### 2.1 Trees\n",
    "The file `\"camden_trees.xlsx\"` is an Excel file, so we use the `read_excel()` function."
   ]
  },
  {
   "cell_type": "code",
   "execution_count": 2,
   "id": "dcc71d80-c6e5-41fa-bdd2-8a9c1c129cc7",
   "metadata": {},
   "outputs": [],
   "source": [
    "# Create a Pandas dataframe called trees that contains the contents of the Excel file\n",
    "trees = pd.read_excel(\"camden_trees.xlsx\")"
   ]
  },
  {
   "cell_type": "code",
   "execution_count": 3,
   "id": "83afef4a",
   "metadata": {},
   "outputs": [
    {
     "name": "stdout",
     "output_type": "stream",
     "text": [
      "<class 'pandas.core.frame.DataFrame'>\n",
      "RangeIndex: 23444 entries, 0 to 23443\n",
      "Data columns (total 17 columns):\n",
      " #   Column                                    Non-Null Count  Dtype         \n",
      "---  ------                                    --------------  -----         \n",
      " 0   Identifier                                23444 non-null  object        \n",
      " 1   Number Of Trees                           23422 non-null  float64       \n",
      " 2   Site Name                                 23444 non-null  object        \n",
      " 3   Contract Area                             23444 non-null  object        \n",
      " 4   Scientific Name                           23444 non-null  object        \n",
      " 5   Inspection Date                           23043 non-null  datetime64[ns]\n",
      " 6   Inspection Due Date                       23043 non-null  object        \n",
      " 7   Height In Metres                          23006 non-null  float64       \n",
      " 8   Spread In Metres                          23006 non-null  float64       \n",
      " 9   Diameter In Centimetres At Breast Height  23005 non-null  float64       \n",
      " 10  Ward Code                                 23218 non-null  object        \n",
      " 11  Ward Name                                 23218 non-null  object        \n",
      " 12  Easting                                   23444 non-null  int64         \n",
      " 13  Northing                                  23444 non-null  int64         \n",
      " 14  Longitude                                 23388 non-null  float64       \n",
      " 15  Latitude                                  23388 non-null  float64       \n",
      " 16  Location                                  23388 non-null  object        \n",
      "dtypes: datetime64[ns](1), float64(6), int64(2), object(8)\n",
      "memory usage: 3.0+ MB\n"
     ]
    }
   ],
   "source": [
    "trees.info()"
   ]
  },
  {
   "cell_type": "markdown",
   "id": "13689979-f709-4e37-87bc-e005a9dfd0ea",
   "metadata": {},
   "source": [
    "We can now inspect the first few rows using `head()`.  By default, `head()` displays the first 5 rows."
   ]
  },
  {
   "cell_type": "code",
   "execution_count": 4,
   "id": "34c737a4-0666-450f-8db3-b14fd2c2fec5",
   "metadata": {},
   "outputs": [
    {
     "data": {
      "text/html": [
       "<div>\n",
       "<style scoped>\n",
       "    .dataframe tbody tr th:only-of-type {\n",
       "        vertical-align: middle;\n",
       "    }\n",
       "\n",
       "    .dataframe tbody tr th {\n",
       "        vertical-align: top;\n",
       "    }\n",
       "\n",
       "    .dataframe thead th {\n",
       "        text-align: right;\n",
       "    }\n",
       "</style>\n",
       "<table border=\"1\" class=\"dataframe\">\n",
       "  <thead>\n",
       "    <tr style=\"text-align: right;\">\n",
       "      <th></th>\n",
       "      <th>Identifier</th>\n",
       "      <th>Number Of Trees</th>\n",
       "      <th>Site Name</th>\n",
       "      <th>Contract Area</th>\n",
       "      <th>Scientific Name</th>\n",
       "      <th>Inspection Date</th>\n",
       "      <th>Inspection Due Date</th>\n",
       "      <th>Height In Metres</th>\n",
       "      <th>Spread In Metres</th>\n",
       "      <th>Diameter In Centimetres At Breast Height</th>\n",
       "      <th>Ward Code</th>\n",
       "      <th>Ward Name</th>\n",
       "      <th>Easting</th>\n",
       "      <th>Northing</th>\n",
       "      <th>Longitude</th>\n",
       "      <th>Latitude</th>\n",
       "      <th>Location</th>\n",
       "    </tr>\n",
       "  </thead>\n",
       "  <tbody>\n",
       "    <tr>\n",
       "      <th>0</th>\n",
       "      <td>00060053</td>\n",
       "      <td>1.0</td>\n",
       "      <td>Russell Nurseries Estate</td>\n",
       "      <td>Housing</td>\n",
       "      <td>Vacant Tree Pit</td>\n",
       "      <td>NaT</td>\n",
       "      <td>NaN</td>\n",
       "      <td>NaN</td>\n",
       "      <td>NaN</td>\n",
       "      <td>NaN</td>\n",
       "      <td>E05000135</td>\n",
       "      <td>Hampstead Town</td>\n",
       "      <td>527305</td>\n",
       "      <td>185240</td>\n",
       "      <td>-0.165240</td>\n",
       "      <td>51.551693</td>\n",
       "      <td>(51.551693, -0.16524)</td>\n",
       "    </tr>\n",
       "    <tr>\n",
       "      <th>1</th>\n",
       "      <td>00057855</td>\n",
       "      <td>1.0</td>\n",
       "      <td>BRECKNOCK JMI (E)</td>\n",
       "      <td>Education</td>\n",
       "      <td>Vacant Tree Pit</td>\n",
       "      <td>2019-07-17</td>\n",
       "      <td>2022/2023</td>\n",
       "      <td>NaN</td>\n",
       "      <td>NaN</td>\n",
       "      <td>NaN</td>\n",
       "      <td>E05000131</td>\n",
       "      <td>Cantelowes</td>\n",
       "      <td>529923</td>\n",
       "      <td>184782</td>\n",
       "      <td>-0.127681</td>\n",
       "      <td>51.546984</td>\n",
       "      <td>(51.546984, -0.127681)</td>\n",
       "    </tr>\n",
       "    <tr>\n",
       "      <th>2</th>\n",
       "      <td>00059953</td>\n",
       "      <td>1.0</td>\n",
       "      <td>Estate 51 Ravenshaw Street</td>\n",
       "      <td>Housing</td>\n",
       "      <td>Ficus carica</td>\n",
       "      <td>NaT</td>\n",
       "      <td>NaN</td>\n",
       "      <td>5.0</td>\n",
       "      <td>4.0</td>\n",
       "      <td>10.0</td>\n",
       "      <td>NaN</td>\n",
       "      <td>NaN</td>\n",
       "      <td>0</td>\n",
       "      <td>0</td>\n",
       "      <td>NaN</td>\n",
       "      <td>NaN</td>\n",
       "      <td>NaN</td>\n",
       "    </tr>\n",
       "    <tr>\n",
       "      <th>3</th>\n",
       "      <td>00059915</td>\n",
       "      <td>1.0</td>\n",
       "      <td>ROSARY RC JMI (E)</td>\n",
       "      <td>Education</td>\n",
       "      <td>Betula jacquemontii</td>\n",
       "      <td>NaT</td>\n",
       "      <td>NaN</td>\n",
       "      <td>4.0</td>\n",
       "      <td>1.0</td>\n",
       "      <td>6.0</td>\n",
       "      <td>E05000135</td>\n",
       "      <td>Hampstead Town</td>\n",
       "      <td>527249</td>\n",
       "      <td>185261</td>\n",
       "      <td>-0.166051</td>\n",
       "      <td>51.551901</td>\n",
       "      <td>(51.551901, -0.166051)</td>\n",
       "    </tr>\n",
       "    <tr>\n",
       "      <th>4</th>\n",
       "      <td>00010762</td>\n",
       "      <td>1.0</td>\n",
       "      <td>Holly Lodge Estate</td>\n",
       "      <td>Housing</td>\n",
       "      <td>Ilex x altaclarensis</td>\n",
       "      <td>2017-06-14</td>\n",
       "      <td>2020/2021</td>\n",
       "      <td>14.0</td>\n",
       "      <td>6.0</td>\n",
       "      <td>26.0</td>\n",
       "      <td>E05000137</td>\n",
       "      <td>Highgate</td>\n",
       "      <td>528414</td>\n",
       "      <td>186770</td>\n",
       "      <td>-0.148704</td>\n",
       "      <td>51.565198</td>\n",
       "      <td>(51.565198, -0.148704)</td>\n",
       "    </tr>\n",
       "  </tbody>\n",
       "</table>\n",
       "</div>"
      ],
      "text/plain": [
       "  Identifier  Number Of Trees                   Site Name Contract Area  \\\n",
       "0   00060053              1.0    Russell Nurseries Estate       Housing   \n",
       "1   00057855              1.0           BRECKNOCK JMI (E)     Education   \n",
       "2   00059953              1.0  Estate 51 Ravenshaw Street       Housing   \n",
       "3   00059915              1.0           ROSARY RC JMI (E)     Education   \n",
       "4   00010762              1.0          Holly Lodge Estate       Housing   \n",
       "\n",
       "        Scientific Name Inspection Date Inspection Due Date  Height In Metres  \\\n",
       "0       Vacant Tree Pit             NaT                 NaN               NaN   \n",
       "1       Vacant Tree Pit      2019-07-17           2022/2023               NaN   \n",
       "2          Ficus carica             NaT                 NaN               5.0   \n",
       "3   Betula jacquemontii             NaT                 NaN               4.0   \n",
       "4  Ilex x altaclarensis      2017-06-14           2020/2021              14.0   \n",
       "\n",
       "   Spread In Metres  Diameter In Centimetres At Breast Height  Ward Code  \\\n",
       "0               NaN                                       NaN  E05000135   \n",
       "1               NaN                                       NaN  E05000131   \n",
       "2               4.0                                      10.0        NaN   \n",
       "3               1.0                                       6.0  E05000135   \n",
       "4               6.0                                      26.0  E05000137   \n",
       "\n",
       "        Ward Name  Easting  Northing  Longitude   Latitude  \\\n",
       "0  Hampstead Town   527305    185240  -0.165240  51.551693   \n",
       "1      Cantelowes   529923    184782  -0.127681  51.546984   \n",
       "2             NaN        0         0        NaN        NaN   \n",
       "3  Hampstead Town   527249    185261  -0.166051  51.551901   \n",
       "4        Highgate   528414    186770  -0.148704  51.565198   \n",
       "\n",
       "                 Location  \n",
       "0   (51.551693, -0.16524)  \n",
       "1  (51.546984, -0.127681)  \n",
       "2                     NaN  \n",
       "3  (51.551901, -0.166051)  \n",
       "4  (51.565198, -0.148704)  "
      ]
     },
     "execution_count": 4,
     "metadata": {},
     "output_type": "execute_result"
    }
   ],
   "source": [
    "# Display the first few rows\n",
    "trees.head()"
   ]
  },
  {
   "cell_type": "markdown",
   "id": "2dc1c27b-7658-41be-92f5-6d1ee07f49c0",
   "metadata": {},
   "source": [
    "It's good to understand the size of the dataset we are dealing with.  The `shape` property does this for us."
   ]
  },
  {
   "cell_type": "code",
   "execution_count": 5,
   "id": "9e7f1cf1-4e79-4cdd-a6b8-0a41c16cb153",
   "metadata": {},
   "outputs": [
    {
     "data": {
      "text/plain": [
       "(23444, 17)"
      ]
     },
     "execution_count": 5,
     "metadata": {},
     "output_type": "execute_result"
    }
   ],
   "source": [
    "# Get the number of rows and columns\n",
    "trees.shape"
   ]
  },
  {
   "cell_type": "markdown",
   "id": "d499f569-4200-48e9-b0a5-b84fc72a228a",
   "metadata": {},
   "source": [
    "If there are lots of columns we can't always see all of them in the `head()` list above.  We can use the `columns` property to get a full list:"
   ]
  },
  {
   "cell_type": "code",
   "execution_count": 6,
   "id": "be4badda-f1c9-481c-a274-8251330cbc5a",
   "metadata": {},
   "outputs": [
    {
     "data": {
      "text/plain": [
       "Index(['Identifier', 'Number Of Trees', 'Site Name', 'Contract Area',\n",
       "       'Scientific Name', 'Inspection Date', 'Inspection Due Date',\n",
       "       'Height In Metres', 'Spread In Metres',\n",
       "       'Diameter In Centimetres At Breast Height', 'Ward Code', 'Ward Name',\n",
       "       'Easting', 'Northing', 'Longitude', 'Latitude', 'Location'],\n",
       "      dtype='object')"
      ]
     },
     "execution_count": 6,
     "metadata": {},
     "output_type": "execute_result"
    }
   ],
   "source": [
    "# Get a list of all the columns in the dataframe\n",
    "trees.columns"
   ]
  },
  {
   "cell_type": "markdown",
   "id": "7b184dfb-0498-43c0-afa7-9d4be449863a",
   "metadata": {},
   "source": [
    "In order to process the data properly, we should understand the data type for each column.  Pandas attempts to work this out for us, but sometimes we need to give it a bit of a hand.  We can use the `dtypes` property to list the data types.  Note that `object` is Pandas way of saying `string`, i.e. a text data type."
   ]
  },
  {
   "cell_type": "code",
   "execution_count": 7,
   "id": "f5b603ef-9ce1-4667-a672-5a86fe9daf1a",
   "metadata": {},
   "outputs": [
    {
     "data": {
      "text/plain": [
       "Identifier                                          object\n",
       "Number Of Trees                                    float64\n",
       "Site Name                                           object\n",
       "Contract Area                                       object\n",
       "Scientific Name                                     object\n",
       "Inspection Date                             datetime64[ns]\n",
       "Inspection Due Date                                 object\n",
       "Height In Metres                                   float64\n",
       "Spread In Metres                                   float64\n",
       "Diameter In Centimetres At Breast Height           float64\n",
       "Ward Code                                           object\n",
       "Ward Name                                           object\n",
       "Easting                                              int64\n",
       "Northing                                             int64\n",
       "Longitude                                          float64\n",
       "Latitude                                           float64\n",
       "Location                                            object\n",
       "dtype: object"
      ]
     },
     "execution_count": 7,
     "metadata": {},
     "output_type": "execute_result"
    }
   ],
   "source": [
    "# List the data types of each column\n",
    "trees.dtypes"
   ]
  },
  {
   "cell_type": "markdown",
   "id": "722d9b40-5f9c-4362-9b46-b052b2449898",
   "metadata": {},
   "source": [
    "### 2.2 Environmental\n",
    "The file `\"camden_trees_environmental.csv\"` is a csv file.  Use the appropriate function to load it into a Pandas DataFrame."
   ]
  },
  {
   "cell_type": "markdown",
   "id": "5585e3b9-4c1c-436e-a34f-f8f19a0cbd02",
   "metadata": {},
   "source": [
    "<div style=\"background-color:lemonchiffon; border:1px solid; padding:5px; margin:5px; font-weight:bold\"><font color=\"crimson\">\n",
    "TODO: Complete the following code cells\n",
    "    </font></div>"
   ]
  },
  {
   "cell_type": "code",
   "execution_count": 8,
   "id": "4e94b905",
   "metadata": {},
   "outputs": [],
   "source": [
    "# Create a Pandas dataframe called environmental that contains the contents of the csv file\n",
    "# TODO\n",
    "environmental = pd.read_csv(\"camden_trees_environmental.csv\")"
   ]
  },
  {
   "cell_type": "code",
   "execution_count": 9,
   "id": "82f5f620",
   "metadata": {},
   "outputs": [
    {
     "name": "stdout",
     "output_type": "stream",
     "text": [
      "<class 'pandas.core.frame.DataFrame'>\n",
      "RangeIndex: 23415 entries, 0 to 23414\n",
      "Data columns (total 9 columns):\n",
      " #   Column                                            Non-Null Count  Dtype  \n",
      "---  ------                                            --------------  -----  \n",
      " 0   Identifier                                        23415 non-null  object \n",
      " 1   Maturity                                          23006 non-null  object \n",
      " 2   Physiological Condition                           22943 non-null  object \n",
      " 3   Tree Set To Be Removed                            23415 non-null  object \n",
      " 4   Removal Reason                                    84 non-null     object \n",
      " 5   Capital Asset Value For Amenity Trees             22982 non-null  float64\n",
      " 6   Carbon Storage In Kilograms                       20555 non-null  float64\n",
      " 7   Gross Carbon Sequestration Per Year In Kilograms  20555 non-null  float64\n",
      " 8   Pollution Removal Per Year In Grams               20555 non-null  float64\n",
      "dtypes: float64(4), object(5)\n",
      "memory usage: 1.6+ MB\n"
     ]
    }
   ],
   "source": [
    "environmental.info()"
   ]
  },
  {
   "cell_type": "code",
   "execution_count": 10,
   "id": "4d6e254d-a3df-4004-b262-004923fdbf9a",
   "metadata": {},
   "outputs": [
    {
     "data": {
      "text/html": [
       "<div>\n",
       "<style scoped>\n",
       "    .dataframe tbody tr th:only-of-type {\n",
       "        vertical-align: middle;\n",
       "    }\n",
       "\n",
       "    .dataframe tbody tr th {\n",
       "        vertical-align: top;\n",
       "    }\n",
       "\n",
       "    .dataframe thead th {\n",
       "        text-align: right;\n",
       "    }\n",
       "</style>\n",
       "<table border=\"1\" class=\"dataframe\">\n",
       "  <thead>\n",
       "    <tr style=\"text-align: right;\">\n",
       "      <th></th>\n",
       "      <th>Identifier</th>\n",
       "      <th>Maturity</th>\n",
       "      <th>Physiological Condition</th>\n",
       "      <th>Tree Set To Be Removed</th>\n",
       "      <th>Removal Reason</th>\n",
       "      <th>Capital Asset Value For Amenity Trees</th>\n",
       "      <th>Carbon Storage In Kilograms</th>\n",
       "      <th>Gross Carbon Sequestration Per Year In Kilograms</th>\n",
       "      <th>Pollution Removal Per Year In Grams</th>\n",
       "    </tr>\n",
       "  </thead>\n",
       "  <tbody>\n",
       "    <tr>\n",
       "      <th>0</th>\n",
       "      <td>00055125</td>\n",
       "      <td>Juvenile</td>\n",
       "      <td>Good</td>\n",
       "      <td>No</td>\n",
       "      <td>NaN</td>\n",
       "      <td>115.07</td>\n",
       "      <td>1.6</td>\n",
       "      <td>0.5</td>\n",
       "      <td>5.7</td>\n",
       "    </tr>\n",
       "    <tr>\n",
       "      <th>1</th>\n",
       "      <td>00059429</td>\n",
       "      <td>Middle aged</td>\n",
       "      <td>Fair</td>\n",
       "      <td>No</td>\n",
       "      <td>NaN</td>\n",
       "      <td>7518.08</td>\n",
       "      <td>NaN</td>\n",
       "      <td>NaN</td>\n",
       "      <td>NaN</td>\n",
       "    </tr>\n",
       "    <tr>\n",
       "      <th>2</th>\n",
       "      <td>00018254</td>\n",
       "      <td>Mature</td>\n",
       "      <td>Fair</td>\n",
       "      <td>No</td>\n",
       "      <td>NaN</td>\n",
       "      <td>20419.63</td>\n",
       "      <td>426.4</td>\n",
       "      <td>8.8</td>\n",
       "      <td>215.2</td>\n",
       "    </tr>\n",
       "    <tr>\n",
       "      <th>3</th>\n",
       "      <td>00027155</td>\n",
       "      <td>Mature</td>\n",
       "      <td>Fair</td>\n",
       "      <td>No</td>\n",
       "      <td>NaN</td>\n",
       "      <td>21447.74</td>\n",
       "      <td>448.3</td>\n",
       "      <td>9.6</td>\n",
       "      <td>379.1</td>\n",
       "    </tr>\n",
       "    <tr>\n",
       "      <th>4</th>\n",
       "      <td>00041326</td>\n",
       "      <td>Juvenile</td>\n",
       "      <td>Good</td>\n",
       "      <td>No</td>\n",
       "      <td>NaN</td>\n",
       "      <td>524.30</td>\n",
       "      <td>9.9</td>\n",
       "      <td>1.4</td>\n",
       "      <td>12.8</td>\n",
       "    </tr>\n",
       "  </tbody>\n",
       "</table>\n",
       "</div>"
      ],
      "text/plain": [
       "  Identifier     Maturity Physiological Condition Tree Set To Be Removed  \\\n",
       "0   00055125     Juvenile                    Good                     No   \n",
       "1   00059429  Middle aged                    Fair                     No   \n",
       "2   00018254       Mature                    Fair                     No   \n",
       "3   00027155       Mature                    Fair                     No   \n",
       "4   00041326     Juvenile                    Good                     No   \n",
       "\n",
       "  Removal Reason  Capital Asset Value For Amenity Trees  \\\n",
       "0            NaN                                 115.07   \n",
       "1            NaN                                7518.08   \n",
       "2            NaN                               20419.63   \n",
       "3            NaN                               21447.74   \n",
       "4            NaN                                 524.30   \n",
       "\n",
       "   Carbon Storage In Kilograms  \\\n",
       "0                          1.6   \n",
       "1                          NaN   \n",
       "2                        426.4   \n",
       "3                        448.3   \n",
       "4                          9.9   \n",
       "\n",
       "   Gross Carbon Sequestration Per Year In Kilograms  \\\n",
       "0                                               0.5   \n",
       "1                                               NaN   \n",
       "2                                               8.8   \n",
       "3                                               9.6   \n",
       "4                                               1.4   \n",
       "\n",
       "   Pollution Removal Per Year In Grams  \n",
       "0                                  5.7  \n",
       "1                                  NaN  \n",
       "2                                215.2  \n",
       "3                                379.1  \n",
       "4                                 12.8  "
      ]
     },
     "execution_count": 10,
     "metadata": {},
     "output_type": "execute_result"
    }
   ],
   "source": [
    "# Display the first few rows\n",
    "# TODO\n",
    "environmental.head()"
   ]
  },
  {
   "cell_type": "code",
   "execution_count": 11,
   "id": "66c23391-628f-4612-936b-7f55c561fd1b",
   "metadata": {},
   "outputs": [
    {
     "data": {
      "text/plain": [
       "(23415, 9)"
      ]
     },
     "execution_count": 11,
     "metadata": {},
     "output_type": "execute_result"
    }
   ],
   "source": [
    "# Get the number of rows and columns\n",
    "# TODO\n",
    "environmental.shape"
   ]
  },
  {
   "cell_type": "code",
   "execution_count": 12,
   "id": "2ccce95e-0aec-4b3b-a961-5356606c2d60",
   "metadata": {},
   "outputs": [
    {
     "data": {
      "text/plain": [
       "Index(['Identifier', 'Maturity', 'Physiological Condition',\n",
       "       'Tree Set To Be Removed', 'Removal Reason',\n",
       "       'Capital Asset Value For Amenity Trees', 'Carbon Storage In Kilograms',\n",
       "       'Gross Carbon Sequestration Per Year In Kilograms',\n",
       "       'Pollution Removal Per Year In Grams'],\n",
       "      dtype='object')"
      ]
     },
     "execution_count": 12,
     "metadata": {},
     "output_type": "execute_result"
    }
   ],
   "source": [
    "# Get a list of all the columns in the dataframe\n",
    "# TODO\n",
    "environmental.columns"
   ]
  },
  {
   "cell_type": "code",
   "execution_count": 13,
   "id": "b32a0236-40fc-44d8-a0b1-d2afb3baba19",
   "metadata": {},
   "outputs": [
    {
     "data": {
      "text/plain": [
       "Identifier                                           object\n",
       "Maturity                                             object\n",
       "Physiological Condition                              object\n",
       "Tree Set To Be Removed                               object\n",
       "Removal Reason                                       object\n",
       "Capital Asset Value For Amenity Trees               float64\n",
       "Carbon Storage In Kilograms                         float64\n",
       "Gross Carbon Sequestration Per Year In Kilograms    float64\n",
       "Pollution Removal Per Year In Grams                 float64\n",
       "dtype: object"
      ]
     },
     "execution_count": 13,
     "metadata": {},
     "output_type": "execute_result"
    }
   ],
   "source": [
    "# List the data types of each column\n",
    "# TODO\n",
    "environmental.dtypes"
   ]
  },
  {
   "cell_type": "markdown",
   "id": "35e2a8fe-944e-4ef0-b944-0a536f699455",
   "metadata": {},
   "source": [
    "<hr/>"
   ]
  },
  {
   "cell_type": "markdown",
   "id": "faa2e5f5-67d8-4382-bad0-549486826c3a",
   "metadata": {},
   "source": [
    "### 2.3 Common and Scientific Names\n",
    "The file `\"tree_common_names.json\"` is a json file.  Use the appropriate function to load it into a Pandas DataFrame."
   ]
  },
  {
   "cell_type": "markdown",
   "id": "c60ddc1e-1bc2-498b-83c8-296e182a5048",
   "metadata": {},
   "source": [
    "<div style=\"background-color:lemonchiffon; border:1px solid; padding:5px; margin:5px; font-weight:bold\"><font color=\"crimson\">\n",
    "TODO: Complete the following code cells\n",
    "    </font></div>"
   ]
  },
  {
   "cell_type": "code",
   "execution_count": 14,
   "id": "9d3eef7b-123a-4e3d-8d19-5808becb2d35",
   "metadata": {},
   "outputs": [],
   "source": [
    "# Create a Pandas dataframe called names that contains the contents of the json file\n",
    "# TOsDO\n",
    "names = pd.read_json(\"tree_common_names.json\")"
   ]
  },
  {
   "cell_type": "code",
   "execution_count": 15,
   "id": "cc832566",
   "metadata": {},
   "outputs": [
    {
     "name": "stdout",
     "output_type": "stream",
     "text": [
      "<class 'pandas.core.frame.DataFrame'>\n",
      "RangeIndex: 589 entries, 0 to 588\n",
      "Data columns (total 2 columns):\n",
      " #   Column           Non-Null Count  Dtype \n",
      "---  ------           --------------  ----- \n",
      " 0   Scientific Name  589 non-null    object\n",
      " 1   Common Name      565 non-null    object\n",
      "dtypes: object(2)\n",
      "memory usage: 9.3+ KB\n"
     ]
    }
   ],
   "source": [
    "names.info()"
   ]
  },
  {
   "cell_type": "code",
   "execution_count": 16,
   "id": "5d05c25c-b462-481b-b8ca-485f4b5a6cec",
   "metadata": {},
   "outputs": [
    {
     "data": {
      "text/html": [
       "<div>\n",
       "<style scoped>\n",
       "    .dataframe tbody tr th:only-of-type {\n",
       "        vertical-align: middle;\n",
       "    }\n",
       "\n",
       "    .dataframe tbody tr th {\n",
       "        vertical-align: top;\n",
       "    }\n",
       "\n",
       "    .dataframe thead th {\n",
       "        text-align: right;\n",
       "    }\n",
       "</style>\n",
       "<table border=\"1\" class=\"dataframe\">\n",
       "  <thead>\n",
       "    <tr style=\"text-align: right;\">\n",
       "      <th></th>\n",
       "      <th>Scientific Name</th>\n",
       "      <th>Common Name</th>\n",
       "    </tr>\n",
       "  </thead>\n",
       "  <tbody>\n",
       "    <tr>\n",
       "      <th>0</th>\n",
       "      <td>Carpinus betulus Lucas</td>\n",
       "      <td>Hornbeam - European</td>\n",
       "    </tr>\n",
       "    <tr>\n",
       "      <th>1</th>\n",
       "      <td>Prunus 'Pandora'</td>\n",
       "      <td>Cherry - Ornamental</td>\n",
       "    </tr>\n",
       "    <tr>\n",
       "      <th>2</th>\n",
       "      <td>Tilia unidentified species</td>\n",
       "      <td>Lime</td>\n",
       "    </tr>\n",
       "    <tr>\n",
       "      <th>3</th>\n",
       "      <td>Rosa unidentified species</td>\n",
       "      <td>None</td>\n",
       "    </tr>\n",
       "    <tr>\n",
       "      <th>4</th>\n",
       "      <td>Cedrus libani</td>\n",
       "      <td>Cedar of Lebanon</td>\n",
       "    </tr>\n",
       "  </tbody>\n",
       "</table>\n",
       "</div>"
      ],
      "text/plain": [
       "              Scientific Name          Common Name\n",
       "0      Carpinus betulus Lucas  Hornbeam - European\n",
       "1            Prunus 'Pandora'  Cherry - Ornamental\n",
       "2  Tilia unidentified species                 Lime\n",
       "3   Rosa unidentified species                 None\n",
       "4               Cedrus libani     Cedar of Lebanon"
      ]
     },
     "execution_count": 16,
     "metadata": {},
     "output_type": "execute_result"
    }
   ],
   "source": [
    "# Display the first few rows\n",
    "# TODO\n",
    "names.head()"
   ]
  },
  {
   "cell_type": "code",
   "execution_count": 17,
   "id": "d6b7cc1e-1ec9-4a5e-a526-23143c0702f7",
   "metadata": {},
   "outputs": [
    {
     "data": {
      "text/plain": [
       "(589, 2)"
      ]
     },
     "execution_count": 17,
     "metadata": {},
     "output_type": "execute_result"
    }
   ],
   "source": [
    "# Get the number of rows and columns\n",
    "# TODO\n",
    "names.shape"
   ]
  },
  {
   "cell_type": "code",
   "execution_count": 18,
   "id": "f349e0ba-c2d0-469b-9f16-530394e85446",
   "metadata": {},
   "outputs": [
    {
     "data": {
      "text/plain": [
       "Index(['Scientific Name', 'Common Name'], dtype='object')"
      ]
     },
     "execution_count": 18,
     "metadata": {},
     "output_type": "execute_result"
    }
   ],
   "source": [
    "# Get a list of all the columns in the dataframe\n",
    "# TODO\n",
    "names.columns"
   ]
  },
  {
   "cell_type": "code",
   "execution_count": 19,
   "id": "aa722c8d-db42-4d95-85cc-eb3d87bcdc5a",
   "metadata": {},
   "outputs": [
    {
     "data": {
      "text/plain": [
       "Scientific Name    object\n",
       "Common Name        object\n",
       "dtype: object"
      ]
     },
     "execution_count": 19,
     "metadata": {},
     "output_type": "execute_result"
    }
   ],
   "source": [
    "# List the data types of each column\n",
    "# TODO\n",
    "names.dtypes"
   ]
  },
  {
   "cell_type": "markdown",
   "id": "17473375-5a50-4709-9d87-8ba11c738dc9",
   "metadata": {},
   "source": [
    "<hr/>"
   ]
  },
  {
   "cell_type": "markdown",
   "id": "5034de69-86fd-4332-9fbd-9ce160540ded",
   "metadata": {},
   "source": [
    "### 2.4 Review\n",
    "At the end of this task you should have a good basic understanding of the contents and overall shape of the different data files.  If you don't, do back and review the outputs above."
   ]
  },
  {
   "cell_type": "markdown",
   "id": "0ba2d5d3-ad1e-4961-a2c6-c6ecd1bcc9e0",
   "metadata": {
    "tags": []
   },
   "source": [
    "## Task 3: Further Inspect the Datasets\n",
    "The initial inspection gave you a very high-level understanding of the data.  We will now drill a bit deeper and try to understand the data column-by-column.\n",
    "\n",
    "For columns with a string data type (`object` in Pandas) we have **qualitative** data.  It would be good to know how many *different* values we have in the column, what those values are and the *count* how many of each different value we have.  This will help us understand if the qualitative variable is **binary**, **nominal** or **ordinal**.\n",
    "\n",
    "For columns with a numeric data type (`int` or `float`) we have **quantitative** data.  Usually integer type variables can the thought of as **discrete** and float type variables can be thought of as **continuous**.  It would be good to know some summary descriptive statistics for these columns.   \n",
    "\n",
    "If you are unsure of what these different data classifications mean, read this:\n",
    "\n",
    "[Types of Variables](https://openclassrooms.com/en/courses/6037301-perform-an-initial-data-analysis/6051886-discover-the-four-variable-types)\n",
    "\n",
    "You can get the list of values and counts for a column using this function:\n",
    "\n",
    "[pandas.Series.value_counts](https://pandas.pydata.org/docs/reference/api/pandas.Series.value_counts.html)\n",
    "\n",
    "You can get the descriptive statistics for a DataFrame using this function:\n",
    "\n",
    "[pandas.DataFrame.describe](https://pandas.pydata.org/pandas-docs/stable/reference/api/pandas.DataFrame.describe.html)\n",
    "\n",
    "Note that Pandas may treat integer columns as floats if there are null values in the columns.  So if you see a float data type it might be worth checking the actual values to confirm if it really is a float or if it really is an int with nulls.  You can check the actual values with:\n",
    "\n",
    "[pandas.Series.unique](https://pandas.pydata.org/docs/reference/api/pandas.Series.unique.html)\n",
    "\n"
   ]
  },
  {
   "cell_type": "markdown",
   "id": "9899c07e-0430-49db-875a-6d5a629d6887",
   "metadata": {},
   "source": [
    "### 3.1 Further Inspect the Trees Dataset\n",
    "Let's start with the trees dataset.\n"
   ]
  },
  {
   "cell_type": "markdown",
   "id": "e220daf9-b12b-4d67-9253-6f61b1952e2f",
   "metadata": {},
   "source": [
    "#### 3.1.a Counts of Values for String Types Columns\n",
    "Go through each column that is a string (object) type and count the number of rows for each value in the column.  After each one, classify the data as binary, nominal or ordinal using a markdown comment.\n",
    "\n",
    "I've done the first one for you.\n"
   ]
  },
  {
   "cell_type": "markdown",
   "id": "3dd0dd30-406d-4635-888b-4157fa5e3f37",
   "metadata": {},
   "source": [
    "**Site Name**"
   ]
  },
  {
   "cell_type": "code",
   "execution_count": 20,
   "id": "be4c51b8",
   "metadata": {},
   "outputs": [
    {
     "name": "stdout",
     "output_type": "stream",
     "text": [
      "<class 'pandas.core.frame.DataFrame'>\n",
      "RangeIndex: 23444 entries, 0 to 23443\n",
      "Data columns (total 17 columns):\n",
      " #   Column                                    Non-Null Count  Dtype         \n",
      "---  ------                                    --------------  -----         \n",
      " 0   Identifier                                23444 non-null  object        \n",
      " 1   Number Of Trees                           23422 non-null  float64       \n",
      " 2   Site Name                                 23444 non-null  object        \n",
      " 3   Contract Area                             23444 non-null  object        \n",
      " 4   Scientific Name                           23444 non-null  object        \n",
      " 5   Inspection Date                           23043 non-null  datetime64[ns]\n",
      " 6   Inspection Due Date                       23043 non-null  object        \n",
      " 7   Height In Metres                          23006 non-null  float64       \n",
      " 8   Spread In Metres                          23006 non-null  float64       \n",
      " 9   Diameter In Centimetres At Breast Height  23005 non-null  float64       \n",
      " 10  Ward Code                                 23218 non-null  object        \n",
      " 11  Ward Name                                 23218 non-null  object        \n",
      " 12  Easting                                   23444 non-null  int64         \n",
      " 13  Northing                                  23444 non-null  int64         \n",
      " 14  Longitude                                 23388 non-null  float64       \n",
      " 15  Latitude                                  23388 non-null  float64       \n",
      " 16  Location                                  23388 non-null  object        \n",
      "dtypes: datetime64[ns](1), float64(6), int64(2), object(8)\n",
      "memory usage: 3.0+ MB\n"
     ]
    }
   ],
   "source": [
    "trees.info()"
   ]
  },
  {
   "cell_type": "code",
   "execution_count": 28,
   "id": "3a4a0915-8d0e-45a2-a919-6b9fd49160da",
   "metadata": {},
   "outputs": [
    {
     "data": {
      "text/plain": [
       "WATERLOW PARK (LS)                         920\n",
       "Alexandra & Ainsworth Estate               289\n",
       "Belsize nature reserve, Russell Nursery    278\n",
       "Holly Lodge Estate                         272\n",
       "LINCOLN'S INN FIELDS, GARDENS (LS)         193\n",
       "                                          ... \n",
       "GOLDINGTON CRESCENT                          1\n",
       "ALLCROFT ROAD                                1\n",
       "WOBURN WALK, LAND BEHIND 4-18                1\n",
       "KILBURN PRIORY                               1\n",
       "GOODGE PLACE                                 1\n",
       "Name: Site Name, Length: 1135, dtype: int64"
      ]
     },
     "execution_count": 28,
     "metadata": {},
     "output_type": "execute_result"
    }
   ],
   "source": [
    "# List of values in Site Name column and their counts\n",
    "trees[\"Site Name\"].value_counts()"
   ]
  },
  {
   "cell_type": "markdown",
   "id": "9117ae6f-8ecb-429f-9e1e-84931d1291c2",
   "metadata": {},
   "source": [
    "Site Name is **qualitative nominal**."
   ]
  },
  {
   "cell_type": "markdown",
   "id": "62f1b4ef-e76a-4464-af20-70a31385091f",
   "metadata": {},
   "source": [
    "Now do the same on the other string columns.  Use `value_counts()` and then classify as binary, ordered or unordered using a markdown comment.  As you do each one, stop and look at the values and counts and think about how the data in the column might be useful for supporting the council's initiatives.  Don't just treat this as a mechanical copy/paste task. The objective is, after all, to get really intimate with the data!"
   ]
  },
  {
   "cell_type": "markdown",
   "id": "51845db9-18f6-4373-a8fc-e19492568561",
   "metadata": {},
   "source": [
    "<div style=\"background-color:lemonchiffon; border:1px solid; padding:5px; margin:5px; font-weight:bold\"><font color=\"crimson\">\n",
    "TODO: Enter your code below.  Use one code cell per column and then add a markdown cell after each one to classify the column as in the above example.  Add as many cells as you need.\n",
    "    </font></div>"
   ]
  },
  {
   "cell_type": "markdown",
   "id": "2aabdb9d",
   "metadata": {},
   "source": [
    "**Identifier**"
   ]
  },
  {
   "cell_type": "code",
   "execution_count": 25,
   "id": "b9c80bb3",
   "metadata": {},
   "outputs": [
    {
     "data": {
      "text/plain": [
       "00000999    2\n",
       "00060087    2\n",
       "00022744    2\n",
       "00032549    2\n",
       "00022674    2\n",
       "           ..\n",
       "00046158    1\n",
       "00058373    1\n",
       "00059181    1\n",
       "00002274    1\n",
       "00013369    1\n",
       "Name: Identifier, Length: 23438, dtype: int64"
      ]
     },
     "execution_count": 25,
     "metadata": {},
     "output_type": "execute_result"
    }
   ],
   "source": [
    "trees[\"Identifier\"].value_counts()"
   ]
  },
  {
   "cell_type": "markdown",
   "id": "62282e12",
   "metadata": {},
   "source": [
    "Identifier is **qualitative nominal**."
   ]
  },
  {
   "cell_type": "markdown",
   "id": "31a1e1b0",
   "metadata": {},
   "source": [
    "**Contract Area**"
   ]
  },
  {
   "cell_type": "code",
   "execution_count": 26,
   "id": "30f79dcc-0c78-407e-9479-131db91b2400",
   "metadata": {},
   "outputs": [
    {
     "data": {
      "text/plain": [
       "Highways              10062\n",
       "Housing                7500\n",
       "Parks                  4330\n",
       "Education              1288\n",
       "Corporate Landlord      264\n",
       "Name: Contract Area, dtype: int64"
      ]
     },
     "execution_count": 26,
     "metadata": {},
     "output_type": "execute_result"
    }
   ],
   "source": [
    "trees[\"Contract Area\"].value_counts()"
   ]
  },
  {
   "cell_type": "markdown",
   "id": "15942ba8",
   "metadata": {},
   "source": [
    "Conract Area is **qualitative nominal**."
   ]
  },
  {
   "cell_type": "markdown",
   "id": "472bb0cb",
   "metadata": {},
   "source": [
    "**Site Name**"
   ]
  },
  {
   "cell_type": "code",
   "execution_count": 21,
   "id": "ba302d26",
   "metadata": {},
   "outputs": [
    {
     "data": {
      "text/plain": [
       "WATERLOW PARK (LS)                         920\n",
       "Alexandra & Ainsworth Estate               289\n",
       "Belsize nature reserve, Russell Nursery    278\n",
       "Holly Lodge Estate                         272\n",
       "LINCOLN'S INN FIELDS, GARDENS (LS)         193\n",
       "                                          ... \n",
       "GOLDINGTON CRESCENT                          1\n",
       "ALLCROFT ROAD                                1\n",
       "WOBURN WALK, LAND BEHIND 4-18                1\n",
       "KILBURN PRIORY                               1\n",
       "GOODGE PLACE                                 1\n",
       "Name: Site Name, Length: 1135, dtype: int64"
      ]
     },
     "execution_count": 21,
     "metadata": {},
     "output_type": "execute_result"
    }
   ],
   "source": [
    "trees[\"Site Name\"].value_counts()"
   ]
  },
  {
   "cell_type": "markdown",
   "id": "46cb80dc",
   "metadata": {},
   "source": [
    "Site Name is **qualitative nominal**."
   ]
  },
  {
   "cell_type": "markdown",
   "id": "2a9c6bc1",
   "metadata": {},
   "source": [
    "**Scientific Name**"
   ]
  },
  {
   "cell_type": "code",
   "execution_count": 27,
   "id": "90a2c62b-fb2c-492d-a529-06cc6066802d",
   "metadata": {},
   "outputs": [
    {
     "data": {
      "text/plain": [
       "Platanus x hispanica                                 3340\n",
       "Tilia europaea                                       1468\n",
       "Acer pseudoplatanus                                   941\n",
       "Betula pendula                                        765\n",
       "Fraxinus excelsior                                    754\n",
       "                                                     ... \n",
       "Vacant Tree Pit (planned: Populus tremula)              1\n",
       "Liriodendron fastigiata                                 1\n",
       "Sequoia sempervirens                                    1\n",
       "Sorbus x hybrida                                        1\n",
       "Vacant Tree Pit (planned: Acer rubrum 'Amstrong')       1\n",
       "Name: Scientific Name, Length: 543, dtype: int64"
      ]
     },
     "execution_count": 27,
     "metadata": {},
     "output_type": "execute_result"
    }
   ],
   "source": [
    "trees[\"Scientific Name\"].value_counts()"
   ]
  },
  {
   "cell_type": "markdown",
   "id": "c5498bff",
   "metadata": {},
   "source": [
    "Scientific Name is **qualitative Nominal**."
   ]
  },
  {
   "cell_type": "markdown",
   "id": "a2edbe27",
   "metadata": {},
   "source": [
    "**Inspection Due Date**"
   ]
  },
  {
   "cell_type": "code",
   "execution_count": 24,
   "id": "4421525a",
   "metadata": {},
   "outputs": [
    {
     "data": {
      "text/plain": [
       "2022/2023    7921\n",
       "2021/2022    7353\n",
       "2020/2021    6577\n",
       "2019/2020    1157\n",
       "2018/2019      16\n",
       "2017/2018       5\n",
       "2016/2017       4\n",
       "2001/2002       4\n",
       "2003/2004       2\n",
       "2006/2007       1\n",
       "2012/2013       1\n",
       "2013/2014       1\n",
       "2011/2012       1\n",
       "Name: Inspection Due Date, dtype: int64"
      ]
     },
     "execution_count": 24,
     "metadata": {},
     "output_type": "execute_result"
    }
   ],
   "source": [
    "trees[\"Inspection Due Date\"].value_counts()"
   ]
  },
  {
   "cell_type": "markdown",
   "id": "af7b9a64",
   "metadata": {},
   "source": [
    "Inspection Due Date is **qualitative Ordinal**."
   ]
  },
  {
   "cell_type": "markdown",
   "id": "55292ee5",
   "metadata": {},
   "source": [
    "**Ward Code**"
   ]
  },
  {
   "cell_type": "code",
   "execution_count": 25,
   "id": "1f38b812-f955-481d-8964-55ce58be0290",
   "metadata": {},
   "outputs": [
    {
     "data": {
      "text/plain": [
       "E05000137    2799\n",
       "E05000143    1832\n",
       "E05000134    1541\n",
       "E05000140    1540\n",
       "E05000139    1463\n",
       "E05000136    1424\n",
       "E05000135    1340\n",
       "E05000138    1293\n",
       "E05000132    1284\n",
       "E05000131    1231\n",
       "E05000133    1229\n",
       "E05000129    1008\n",
       "E05000142     989\n",
       "E05000144     978\n",
       "E05000130     899\n",
       "E05000145     853\n",
       "E05000141     824\n",
       "E05000128     691\n",
       "Name: Ward Code, dtype: int64"
      ]
     },
     "execution_count": 25,
     "metadata": {},
     "output_type": "execute_result"
    }
   ],
   "source": [
    "trees[\"Ward Code\"].value_counts()"
   ]
  },
  {
   "cell_type": "markdown",
   "id": "a1f86890",
   "metadata": {},
   "source": [
    "Ward Code is **qualitative Nominal**."
   ]
  },
  {
   "cell_type": "markdown",
   "id": "364d5934",
   "metadata": {},
   "source": [
    "**Location**"
   ]
  },
  {
   "cell_type": "code",
   "execution_count": 27,
   "id": "f23b20ee",
   "metadata": {},
   "outputs": [
    {
     "data": {
      "text/plain": [
       "(51.556205, -0.173776)    3\n",
       "(51.553475, -0.152668)    3\n",
       "(51.548133, -0.144922)    2\n",
       "(51.544482, -0.144465)    2\n",
       "(51.55468, -0.164744)     2\n",
       "                         ..\n",
       "(51.525312, -0.128846)    1\n",
       "(51.540297, -0.181512)    1\n",
       "(51.556013, -0.211326)    1\n",
       "(51.55969, -0.182457)     1\n",
       "(51.552397, -0.173397)    1\n",
       "Name: Location, Length: 23262, dtype: int64"
      ]
     },
     "execution_count": 27,
     "metadata": {},
     "output_type": "execute_result"
    }
   ],
   "source": [
    "trees[\"Location\"].value_counts()"
   ]
  },
  {
   "cell_type": "markdown",
   "id": "99576867",
   "metadata": {},
   "source": [
    "Location is **qualitative Nominal**."
   ]
  },
  {
   "cell_type": "markdown",
   "id": "d902c016",
   "metadata": {},
   "source": [
    "**Ward Name**"
   ]
  },
  {
   "cell_type": "code",
   "execution_count": 26,
   "id": "128fc054-89ec-494f-b651-2e01a5e95442",
   "metadata": {},
   "outputs": [
    {
     "data": {
      "text/plain": [
       "Highgate                          2799\n",
       "St Pancras and Somers Town        1832\n",
       "Gospel Oak                        1541\n",
       "Kilburn                           1540\n",
       "Kentish Town                      1463\n",
       "Haverstock                        1424\n",
       "Hampstead Town                    1340\n",
       "Holborn and Covent Garden         1293\n",
       "Fortune Green                     1284\n",
       "Cantelowes                        1231\n",
       "Frognal and Fitzjohns             1229\n",
       "Bloomsbury                        1008\n",
       "Regent's Park                      989\n",
       "Swiss Cottage                      978\n",
       "Camden Town with Primrose Hill     899\n",
       "West Hampstead                     853\n",
       "King's Cross                       824\n",
       "Belsize                            691\n",
       "Name: Ward Name, dtype: int64"
      ]
     },
     "execution_count": 26,
     "metadata": {},
     "output_type": "execute_result"
    }
   ],
   "source": [
    "trees[\"Ward Name\"].value_counts()"
   ]
  },
  {
   "cell_type": "markdown",
   "id": "90ba4d0f",
   "metadata": {},
   "source": [
    "Ward Name is **qualitative Nominal**."
   ]
  },
  {
   "cell_type": "markdown",
   "id": "098f1891-aa39-4304-9845-13cf7041d27f",
   "metadata": {},
   "source": [
    "<hr/>"
   ]
  },
  {
   "cell_type": "markdown",
   "id": "65820ccc-8566-4b63-b141-7dffa8e9d067",
   "metadata": {},
   "source": [
    "#### 3.1.b Descriptive Stats for Numeric Type Columns\n",
    "Use the `describe()` function to get the descriptive stats for the numeric columns.\n",
    "\n",
    "For each column, classify the column as discrete or continuous (use the data type to guide you, but check any floats to confirm whether they are really floats or just ints with null values.  Use `pandas.Series.unique()` to check this).\n"
   ]
  },
  {
   "cell_type": "markdown",
   "id": "bef50831-d839-4dd0-833e-cabfda83cba4",
   "metadata": {},
   "source": [
    "<div style=\"background-color:lemonchiffon; border:1px solid; padding:5px; margin:5px; font-weight:bold\"><font color=\"crimson\">\n",
    "TODO: Complete the following code cells\n",
    "    </font></div>"
   ]
  },
  {
   "cell_type": "code",
   "execution_count": 29,
   "id": "0f449063-a7c5-4526-a057-fd20bd17ba6f",
   "metadata": {},
   "outputs": [
    {
     "data": {
      "text/html": [
       "<div>\n",
       "<style scoped>\n",
       "    .dataframe tbody tr th:only-of-type {\n",
       "        vertical-align: middle;\n",
       "    }\n",
       "\n",
       "    .dataframe tbody tr th {\n",
       "        vertical-align: top;\n",
       "    }\n",
       "\n",
       "    .dataframe thead th {\n",
       "        text-align: right;\n",
       "    }\n",
       "</style>\n",
       "<table border=\"1\" class=\"dataframe\">\n",
       "  <thead>\n",
       "    <tr style=\"text-align: right;\">\n",
       "      <th></th>\n",
       "      <th>Number Of Trees</th>\n",
       "      <th>Height In Metres</th>\n",
       "      <th>Spread In Metres</th>\n",
       "      <th>Diameter In Centimetres At Breast Height</th>\n",
       "      <th>Easting</th>\n",
       "      <th>Northing</th>\n",
       "      <th>Longitude</th>\n",
       "      <th>Latitude</th>\n",
       "    </tr>\n",
       "  </thead>\n",
       "  <tbody>\n",
       "    <tr>\n",
       "      <th>count</th>\n",
       "      <td>23422.000000</td>\n",
       "      <td>23006.000000</td>\n",
       "      <td>23006.000000</td>\n",
       "      <td>23005.000000</td>\n",
       "      <td>23444.000000</td>\n",
       "      <td>23444.000000</td>\n",
       "      <td>23388.000000</td>\n",
       "      <td>23388.000000</td>\n",
       "    </tr>\n",
       "    <tr>\n",
       "      <th>mean</th>\n",
       "      <td>1.100034</td>\n",
       "      <td>10.307029</td>\n",
       "      <td>5.997612</td>\n",
       "      <td>32.595262</td>\n",
       "      <td>526762.518171</td>\n",
       "      <td>184085.188662</td>\n",
       "      <td>-0.155145</td>\n",
       "      <td>51.545115</td>\n",
       "    </tr>\n",
       "    <tr>\n",
       "      <th>std</th>\n",
       "      <td>1.288041</td>\n",
       "      <td>6.325293</td>\n",
       "      <td>4.132379</td>\n",
       "      <td>26.149994</td>\n",
       "      <td>25835.857212</td>\n",
       "      <td>9121.059755</td>\n",
       "      <td>0.025058</td>\n",
       "      <td>0.013067</td>\n",
       "    </tr>\n",
       "    <tr>\n",
       "      <th>min</th>\n",
       "      <td>0.000000</td>\n",
       "      <td>0.000000</td>\n",
       "      <td>0.000000</td>\n",
       "      <td>0.000000</td>\n",
       "      <td>0.000000</td>\n",
       "      <td>0.000000</td>\n",
       "      <td>-0.261719</td>\n",
       "      <td>51.512858</td>\n",
       "    </tr>\n",
       "    <tr>\n",
       "      <th>25%</th>\n",
       "      <td>1.000000</td>\n",
       "      <td>5.000000</td>\n",
       "      <td>3.000000</td>\n",
       "      <td>12.000000</td>\n",
       "      <td>526583.750000</td>\n",
       "      <td>183665.000000</td>\n",
       "      <td>-0.175734</td>\n",
       "      <td>51.537472</td>\n",
       "    </tr>\n",
       "    <tr>\n",
       "      <th>50%</th>\n",
       "      <td>1.000000</td>\n",
       "      <td>9.000000</td>\n",
       "      <td>5.000000</td>\n",
       "      <td>27.000000</td>\n",
       "      <td>528456.500000</td>\n",
       "      <td>184690.000000</td>\n",
       "      <td>-0.148478</td>\n",
       "      <td>51.546669</td>\n",
       "    </tr>\n",
       "    <tr>\n",
       "      <th>75%</th>\n",
       "      <td>1.000000</td>\n",
       "      <td>15.000000</td>\n",
       "      <td>8.000000</td>\n",
       "      <td>46.000000</td>\n",
       "      <td>529369.000000</td>\n",
       "      <td>185481.000000</td>\n",
       "      <td>-0.135978</td>\n",
       "      <td>51.554032</td>\n",
       "    </tr>\n",
       "    <tr>\n",
       "      <th>max</th>\n",
       "      <td>67.000000</td>\n",
       "      <td>127.000000</td>\n",
       "      <td>88.000000</td>\n",
       "      <td>228.000000</td>\n",
       "      <td>531514.000000</td>\n",
       "      <td>196188.000000</td>\n",
       "      <td>-0.105858</td>\n",
       "      <td>51.650843</td>\n",
       "    </tr>\n",
       "  </tbody>\n",
       "</table>\n",
       "</div>"
      ],
      "text/plain": [
       "       Number Of Trees  Height In Metres  Spread In Metres  \\\n",
       "count     23422.000000      23006.000000      23006.000000   \n",
       "mean          1.100034         10.307029          5.997612   \n",
       "std           1.288041          6.325293          4.132379   \n",
       "min           0.000000          0.000000          0.000000   \n",
       "25%           1.000000          5.000000          3.000000   \n",
       "50%           1.000000          9.000000          5.000000   \n",
       "75%           1.000000         15.000000          8.000000   \n",
       "max          67.000000        127.000000         88.000000   \n",
       "\n",
       "       Diameter In Centimetres At Breast Height        Easting       Northing  \\\n",
       "count                              23005.000000   23444.000000   23444.000000   \n",
       "mean                                  32.595262  526762.518171  184085.188662   \n",
       "std                                   26.149994   25835.857212    9121.059755   \n",
       "min                                    0.000000       0.000000       0.000000   \n",
       "25%                                   12.000000  526583.750000  183665.000000   \n",
       "50%                                   27.000000  528456.500000  184690.000000   \n",
       "75%                                   46.000000  529369.000000  185481.000000   \n",
       "max                                  228.000000  531514.000000  196188.000000   \n",
       "\n",
       "          Longitude      Latitude  \n",
       "count  23388.000000  23388.000000  \n",
       "mean      -0.155145     51.545115  \n",
       "std        0.025058      0.013067  \n",
       "min       -0.261719     51.512858  \n",
       "25%       -0.175734     51.537472  \n",
       "50%       -0.148478     51.546669  \n",
       "75%       -0.135978     51.554032  \n",
       "max       -0.105858     51.650843  "
      ]
     },
     "execution_count": 29,
     "metadata": {},
     "output_type": "execute_result"
    }
   ],
   "source": [
    "# Get the descriptive stats for the numeric columns\n",
    "# TODO\n",
    "trees.describe()"
   ]
  },
  {
   "cell_type": "code",
   "execution_count": 30,
   "id": "9b793f70-5799-4eb0-aa11-4cb38f86baba",
   "metadata": {
    "scrolled": true
   },
   "outputs": [
    {
     "data": {
      "text/plain": [
       "Identifier                                          object\n",
       "Number Of Trees                                    float64\n",
       "Site Name                                           object\n",
       "Contract Area                                       object\n",
       "Scientific Name                                     object\n",
       "Inspection Date                             datetime64[ns]\n",
       "Inspection Due Date                                 object\n",
       "Height In Metres                                   float64\n",
       "Spread In Metres                                   float64\n",
       "Diameter In Centimetres At Breast Height           float64\n",
       "Ward Code                                           object\n",
       "Ward Name                                           object\n",
       "Easting                                              int64\n",
       "Northing                                             int64\n",
       "Longitude                                          float64\n",
       "Latitude                                           float64\n",
       "Location                                            object\n",
       "dtype: object"
      ]
     },
     "execution_count": 30,
     "metadata": {},
     "output_type": "execute_result"
    }
   ],
   "source": [
    "# Remind ourselves of the data types\n",
    "# TODO\n",
    "trees.dtypes"
   ]
  },
  {
   "cell_type": "markdown",
   "id": "f8139d4e-5890-4d4d-bf64-850c9f783710",
   "metadata": {},
   "source": [
    "<hr/>\n",
    "\n",
    "Find out if floats are really floats or ints with nulls.\n",
    "\n",
    "<div style=\"background-color:lemonchiffon; border:1px solid; padding:5px; margin:5px; font-weight:bold\"><font color=\"crimson\">\n",
    "TODO: Enter your code below.  Use one code cell per column.   Add as many cells as you need.\n",
    "    </font></div>"
   ]
  },
  {
   "cell_type": "code",
   "execution_count": 31,
   "id": "d1b425fc-edd1-4bfd-9766-6bd300bd2968",
   "metadata": {},
   "outputs": [
    {
     "data": {
      "text/plain": [
       "array([ 1.,  2.,  3.,  0., nan,  5.,  6.,  7., 18.,  8., 65.,  4., 10.,\n",
       "        9., 11., 50., 12., 15., 52., 40., 33., 13., 20., 67., 21., 32.,\n",
       "       24., 26., 16., 25., 51.])"
      ]
     },
     "execution_count": 31,
     "metadata": {},
     "output_type": "execute_result"
    }
   ],
   "source": [
    "trees[\"Number Of Trees\"].unique()"
   ]
  },
  {
   "cell_type": "markdown",
   "id": "87a80c8f",
   "metadata": {},
   "source": [
    "Number Of Trees are **integer with nulls**."
   ]
  },
  {
   "cell_type": "code",
   "execution_count": 32,
   "id": "81ec49ca-b8dc-4c4f-ae1f-2fd3368330e8",
   "metadata": {},
   "outputs": [
    {
     "data": {
      "text/plain": [
       "array([  nan,   5. ,   4. ,  14. ,   9. ,   0. ,   2. ,   2.5,   8. ,\n",
       "        13. ,  17. ,  10. ,   3. ,  19. ,   7. ,   6. ,   1.8,  15. ,\n",
       "        12. ,   1.5,  16. ,  20. ,  21. ,  24. ,  25. ,   2.7,  18. ,\n",
       "        11. ,  26. ,  22. ,   0.5,  16.1,  27. ,  28. ,   2.3,  22.3,\n",
       "        38. ,  15.5,  29. ,  23. ,  34. ,   3.5,   2.6,   1. ,   5.5,\n",
       "        22.5,   2.2,  36. ,  31. ,  96. ,  13.6, 127. ,  14.7,   4.5,\n",
       "        30. ,  35. ,  32. ,   9.4,  11.8,  33. ,  40. ,   2.1,   6.5,\n",
       "        41. ,  23.1,  37. ,  39. ,  12.5,   7.5,  13.7,  31.6,  23.8,\n",
       "         0.2,  12.3,  15.7,   6.8,   9.3,   3.8,  24.9,  17.4,   2.8,\n",
       "         3.2,  13.9,  12.4,  10.2,  10.8,  24.5,  30.4,   9.8,  11.4,\n",
       "        23.4,   3.7,  11.6,   7.7,   8.3,   3.6,  17.5,  19.5])"
      ]
     },
     "execution_count": 32,
     "metadata": {},
     "output_type": "execute_result"
    }
   ],
   "source": [
    "trees[\"Height In Metres\"].unique()"
   ]
  },
  {
   "cell_type": "markdown",
   "id": "22c9d707",
   "metadata": {},
   "source": [
    "Height In Metres are **floats with nulls**."
   ]
  },
  {
   "cell_type": "code",
   "execution_count": 33,
   "id": "5d606e90",
   "metadata": {},
   "outputs": [
    {
     "data": {
      "text/plain": [
       "array([  nan,  4.  ,  1.  ,  6.  ,  7.  ,  0.  ,  1.5 ,  5.  ,  9.  ,\n",
       "       10.  ,  3.  ,  2.  , 13.  ,  2.5 , 12.  , 15.  , 14.  ,  8.  ,\n",
       "       11.  ,  0.6 ,  1.8 , 17.  , 20.  , 18.  , 16.  , 22.  , 19.  ,\n",
       "        5.5 , 26.  ,  1.4 , 23.  , 21.  , 28.  ,  1.2 ,  0.5 ,  3.5 ,\n",
       "       24.  ,  1.3 ,  1.6 , 30.  ,  1.7 , 27.  ,  4.2 , 11.02,  0.7 ,\n",
       "        6.5 ,  4.5 , 31.  , 25.  ,  0.8 ,  0.3 ,  2.2 ,  2.8 ,  1.65,\n",
       "       29.  , 88.  ])"
      ]
     },
     "execution_count": 33,
     "metadata": {},
     "output_type": "execute_result"
    }
   ],
   "source": [
    "trees[\"Spread In Metres\"].unique()"
   ]
  },
  {
   "cell_type": "markdown",
   "id": "9584d484",
   "metadata": {},
   "source": [
    "Spread In Metres are **floats with nulls**."
   ]
  },
  {
   "cell_type": "code",
   "execution_count": 34,
   "id": "7dc421c2",
   "metadata": {},
   "outputs": [
    {
     "data": {
      "text/plain": [
       "array([  nan,  10. ,   6. ,  26. ,  29. ,   5. ,   0. ,   4. ,  12. ,\n",
       "        59. ,  52. ,  23. ,  50. ,  63. ,  15. ,   3. ,  49. ,  42. ,\n",
       "        14. ,  19. ,   9. ,  70. ,  32. ,  28. ,  34. ,  20. ,  17. ,\n",
       "        27. ,  37. ,   8. ,  45. ,  18. , 119. ,   7. ,  38. ,  55. ,\n",
       "        41. ,  75. ,  31. ,  25. ,  11. ,  30. ,  43. ,  68. ,  92. ,\n",
       "        16. ,  35. ,  58. ,  72. ,  64. ,  13. ,  61. ,  69. ,  33. ,\n",
       "        47. ,  67. , 109. , 106. ,  24. ,  51. ,  40. ,  22. ,  60. ,\n",
       "        39. ,  46. ,  57. ,  21. ,  54. , 117. ,  44. ,  82. , 114. ,\n",
       "        65. ,  84. , 118. ,   1. ,  89. ,  53. ,  36. ,  93. ,  88. ,\n",
       "        86. , 163. ,  66. ,  81. ,  74. , 100. ,  48. ,  73. ,  95. ,\n",
       "       129. ,  62. ,  85. ,  56. ,   3.5, 161. ,  71. , 105. , 102. ,\n",
       "        80. ,  87. , 101. ,  76. , 113. , 108. , 160. , 132. ,  90. ,\n",
       "       145. , 130. ,  79. , 228. , 110. ,  83. ,  78. , 122. , 170. ,\n",
       "       115. ,   2. ,  77. , 107. ,  96. , 126. ,  91. , 104. , 158. ,\n",
       "        99. ,  94. ,  16.5, 127. , 151. , 103. , 112. ,  98. ,  97. ,\n",
       "       136. , 125. , 111. , 124. , 139. , 156. , 120. , 148. , 144. ,\n",
       "       140. , 121. , 143. ,  17.5, 154. , 159. , 142. , 197. , 123. ,\n",
       "       149. , 155. , 191. , 131. , 147. , 162. , 116. , 152. , 153. ,\n",
       "       165. , 137. , 200. , 177. , 133. , 128. , 134. ,  11.5, 135. ,\n",
       "       150. , 187. , 210. , 166. , 138. ,  10.5, 206. , 141. , 209. ,\n",
       "       184. , 173. , 192. ,   7.5, 194. , 157. , 146. , 185. ])"
      ]
     },
     "execution_count": 34,
     "metadata": {},
     "output_type": "execute_result"
    }
   ],
   "source": [
    "trees[\"Diameter In Centimetres At Breast Height\"].unique()"
   ]
  },
  {
   "cell_type": "markdown",
   "id": "bb842605",
   "metadata": {},
   "source": [
    "Diameter In Centimetres At Breast Height are **float with nulls**."
   ]
  },
  {
   "cell_type": "code",
   "execution_count": 28,
   "id": "10a47331",
   "metadata": {},
   "outputs": [
    {
     "data": {
      "text/plain": [
       "array([-0.16524 , -0.127681,       nan, ..., -0.196884, -0.204206,\n",
       "       -0.173397])"
      ]
     },
     "execution_count": 28,
     "metadata": {},
     "output_type": "execute_result"
    }
   ],
   "source": [
    "trees[\"Longitude\"].unique()"
   ]
  },
  {
   "cell_type": "markdown",
   "id": "3e70990b",
   "metadata": {},
   "source": [
    "Longitude are **floats with nulls**."
   ]
  },
  {
   "cell_type": "code",
   "execution_count": 29,
   "id": "4bb39752",
   "metadata": {},
   "outputs": [
    {
     "data": {
      "text/plain": [
       "array([51.551693, 51.546984,       nan, ..., 51.54329 , 51.545726,\n",
       "       51.531863])"
      ]
     },
     "execution_count": 29,
     "metadata": {},
     "output_type": "execute_result"
    }
   ],
   "source": [
    "trees[\"Latitude\"].unique()"
   ]
  },
  {
   "cell_type": "markdown",
   "id": "e22dcbb0",
   "metadata": {},
   "source": [
    "Latitude are **floats with nulls**."
   ]
  },
  {
   "cell_type": "markdown",
   "id": "27c930e8-f1f0-45d1-851a-ac41f43fbdcd",
   "metadata": {},
   "source": [
    "\n",
    "<hr/>"
   ]
  },
  {
   "cell_type": "markdown",
   "id": "de74dc7d-a346-42ba-9def-8d07b1ef1e0c",
   "metadata": {},
   "source": [
    "Classify the columns as discrete or continuous.\n",
    "\n",
    "<div style=\"background-color:lemonchiffon; border:1px solid; padding:5px; margin:5px; font-weight:bold\"><font color=\"crimson\">\n",
    "TODO: Enter markdown below.\n",
    "</div>"
   ]
  },
  {
   "cell_type": "markdown",
   "id": "5a7931f5-fac2-4181-84d6-b4999e983057",
   "metadata": {},
   "source": [
    "\n",
    "ENTER AS MARKDOWN HERE\n",
    "\n",
    "Number Of Trees are **Discrete**.\n",
    "\n",
    "Height In Metres are **Continuous**.\n",
    "\n",
    "Spread In Metres are **Continuous**.\n",
    "\n",
    "Diameter In Centimetres At Breast Height are **continous**.\n",
    "\n",
    "Longitude are **Continuous**.\n",
    "\n",
    "Latitude are **Continuous**."
   ]
  },
  {
   "cell_type": "markdown",
   "id": "4ee2e405-e35f-49d7-bcd6-00c12d31fa8d",
   "metadata": {},
   "source": [
    "<hr/>"
   ]
  },
  {
   "cell_type": "markdown",
   "id": "90c6e10d-2f2e-4003-b983-f60870b6fc1a",
   "metadata": {},
   "source": [
    "### 3.2 Further Inspect the Environmental Dataset\n",
    "Now repeat the above for the environmental dataset.\n",
    "\n",
    "#### 3.2.a Counts of Values for String Type Columns \n",
    "For each string column in the environmental dataset show the counts of the unique values."
   ]
  },
  {
   "cell_type": "markdown",
   "id": "f077e892-01db-426e-9cae-e59a6b0940be",
   "metadata": {},
   "source": [
    "<div style=\"background-color:lemonchiffon; border:1px solid; padding:5px; margin:5px; font-weight:bold\"><font color=\"crimson\">\n",
    "    TODO: Enter your code below.  Use one code cell per column and then add a markdown cell after each one to classify the column.  Add as many cells as you need.\n",
    "</font></div>"
   ]
  },
  {
   "cell_type": "markdown",
   "id": "37069305",
   "metadata": {},
   "source": [
    "**Identifier**"
   ]
  },
  {
   "cell_type": "code",
   "execution_count": 30,
   "id": "44ba9648-4ddb-4d61-b176-264bce03818c",
   "metadata": {},
   "outputs": [
    {
     "data": {
      "text/plain": [
       "00055125    1\n",
       "00001681    1\n",
       "00008539    1\n",
       "00019552    1\n",
       "00032062    1\n",
       "           ..\n",
       "00013724    1\n",
       "00005978    1\n",
       "00017336    1\n",
       "00014229    1\n",
       "00001786    1\n",
       "Name: Identifier, Length: 23415, dtype: int64"
      ]
     },
     "execution_count": 30,
     "metadata": {},
     "output_type": "execute_result"
    }
   ],
   "source": [
    "environmental[\"Identifier\"].value_counts()"
   ]
  },
  {
   "cell_type": "markdown",
   "id": "9f21b0fd",
   "metadata": {},
   "source": [
    "Identifier is **qualitative nominal**."
   ]
  },
  {
   "cell_type": "markdown",
   "id": "886f45fa",
   "metadata": {},
   "source": [
    "**Maturity**"
   ]
  },
  {
   "cell_type": "code",
   "execution_count": 31,
   "id": "089c3831-ae1e-47f9-a907-45260efe3d56",
   "metadata": {},
   "outputs": [
    {
     "data": {
      "text/plain": [
       "Mature            10225\n",
       "Middle aged        7779\n",
       "Juvenile           4393\n",
       "Not Applicable      377\n",
       "Over Mature         191\n",
       "Veteran              41\n",
       "Name: Maturity, dtype: int64"
      ]
     },
     "execution_count": 31,
     "metadata": {},
     "output_type": "execute_result"
    }
   ],
   "source": [
    "environmental[\"Maturity\"].value_counts()"
   ]
  },
  {
   "cell_type": "markdown",
   "id": "e1ddcd8e",
   "metadata": {},
   "source": [
    "Maturity is **qualitative Ordinal**."
   ]
  },
  {
   "cell_type": "markdown",
   "id": "e73a6a3f",
   "metadata": {},
   "source": [
    "**Physiological Condition**"
   ]
  },
  {
   "cell_type": "code",
   "execution_count": 32,
   "id": "c23483e5",
   "metadata": {},
   "outputs": [
    {
     "data": {
      "text/plain": [
       "Good              12910\n",
       "Fair               9183\n",
       "Poor                357\n",
       "Not applicable      249\n",
       "Dead                236\n",
       "Excellent             8\n",
       "Name: Physiological Condition, dtype: int64"
      ]
     },
     "execution_count": 32,
     "metadata": {},
     "output_type": "execute_result"
    }
   ],
   "source": [
    "environmental[\"Physiological Condition\"].value_counts()"
   ]
  },
  {
   "cell_type": "markdown",
   "id": "17bc9cb1",
   "metadata": {},
   "source": [
    "Physiological Condition is **qualitative Ordinal**."
   ]
  },
  {
   "cell_type": "markdown",
   "id": "cb8f7e52",
   "metadata": {},
   "source": [
    "**Tree Set To Be Removed**"
   ]
  },
  {
   "cell_type": "code",
   "execution_count": 33,
   "id": "30a84bba",
   "metadata": {},
   "outputs": [
    {
     "data": {
      "text/plain": [
       "No     23331\n",
       "Yes       84\n",
       "Name: Tree Set To Be Removed, dtype: int64"
      ]
     },
     "execution_count": 33,
     "metadata": {},
     "output_type": "execute_result"
    }
   ],
   "source": [
    "environmental[\"Tree Set To Be Removed\"].value_counts()"
   ]
  },
  {
   "cell_type": "markdown",
   "id": "13a2a7bc",
   "metadata": {},
   "source": [
    "Tree Set To Be Removed is **qualitative Binary**."
   ]
  },
  {
   "cell_type": "markdown",
   "id": "e346b776",
   "metadata": {},
   "source": [
    "**Removal Reason**"
   ]
  },
  {
   "cell_type": "code",
   "execution_count": 34,
   "id": "8088f001",
   "metadata": {},
   "outputs": [
    {
     "data": {
      "text/plain": [
       "Dead, dying                    30\n",
       "Basal decay                    17\n",
       "Trunk decay                    10\n",
       "Tree defect                     5\n",
       "Crown die-back                  5\n",
       "Dog damage                      3\n",
       "Unsuitable location             3\n",
       "Newly planted tree failure      2\n",
       "Coppiced stump                  1\n",
       "Touching building/structure     1\n",
       "Crown decay                     1\n",
       "Split trunk                     1\n",
       "Broken/split branch             1\n",
       "Climber                         1\n",
       "No defects - work required      1\n",
       "Suppressed                      1\n",
       "ATRD                            1\n",
       "Name: Removal Reason, dtype: int64"
      ]
     },
     "execution_count": 34,
     "metadata": {},
     "output_type": "execute_result"
    }
   ],
   "source": [
    "environmental[\"Removal Reason\"].value_counts()"
   ]
  },
  {
   "cell_type": "markdown",
   "id": "a73a5d89",
   "metadata": {},
   "source": [
    "Removal Reason is  **qualitative nominal**."
   ]
  },
  {
   "cell_type": "markdown",
   "id": "fa84e8d1-57aa-483b-bb38-e54a07e6aff8",
   "metadata": {},
   "source": [
    "<hr/>"
   ]
  },
  {
   "cell_type": "markdown",
   "id": "5c9ae370-ab1f-43f3-ba17-5dd062a2cbf1",
   "metadata": {},
   "source": [
    "#### 3.2.b Descriptive Stats for Numeric Type Columns\n",
    "For each numeric column in the environmental dataset show the descriptive stats"
   ]
  },
  {
   "cell_type": "markdown",
   "id": "eafafa68-7cf4-4f9d-bbe1-7513151aa727",
   "metadata": {},
   "source": [
    "<div style=\"background-color:lemonchiffon; border:1px solid; padding:5px; margin:5px; font-weight:bold\"><font color=\"crimson\">\n",
    "TODO: Complete the following code cells\n",
    "    </font></div>"
   ]
  },
  {
   "cell_type": "code",
   "execution_count": 35,
   "id": "4380cd76-3b4c-4488-8b5d-b8429c747228",
   "metadata": {},
   "outputs": [
    {
     "data": {
      "text/html": [
       "<div>\n",
       "<style scoped>\n",
       "    .dataframe tbody tr th:only-of-type {\n",
       "        vertical-align: middle;\n",
       "    }\n",
       "\n",
       "    .dataframe tbody tr th {\n",
       "        vertical-align: top;\n",
       "    }\n",
       "\n",
       "    .dataframe thead th {\n",
       "        text-align: right;\n",
       "    }\n",
       "</style>\n",
       "<table border=\"1\" class=\"dataframe\">\n",
       "  <thead>\n",
       "    <tr style=\"text-align: right;\">\n",
       "      <th></th>\n",
       "      <th>Capital Asset Value For Amenity Trees</th>\n",
       "      <th>Carbon Storage In Kilograms</th>\n",
       "      <th>Gross Carbon Sequestration Per Year In Kilograms</th>\n",
       "      <th>Pollution Removal Per Year In Grams</th>\n",
       "    </tr>\n",
       "  </thead>\n",
       "  <tbody>\n",
       "    <tr>\n",
       "      <th>count</th>\n",
       "      <td>22982.000000</td>\n",
       "      <td>20555.000000</td>\n",
       "      <td>20555.000000</td>\n",
       "      <td>20555.000000</td>\n",
       "    </tr>\n",
       "    <tr>\n",
       "      <th>mean</th>\n",
       "      <td>14056.393047</td>\n",
       "      <td>467.465454</td>\n",
       "      <td>8.675057</td>\n",
       "      <td>217.740316</td>\n",
       "    </tr>\n",
       "    <tr>\n",
       "      <th>std</th>\n",
       "      <td>24803.806595</td>\n",
       "      <td>844.926555</td>\n",
       "      <td>8.681446</td>\n",
       "      <td>306.751920</td>\n",
       "    </tr>\n",
       "    <tr>\n",
       "      <th>min</th>\n",
       "      <td>0.000000</td>\n",
       "      <td>0.500000</td>\n",
       "      <td>0.000000</td>\n",
       "      <td>0.300000</td>\n",
       "    </tr>\n",
       "    <tr>\n",
       "      <th>25%</th>\n",
       "      <td>1035.650000</td>\n",
       "      <td>24.800000</td>\n",
       "      <td>2.200000</td>\n",
       "      <td>29.300000</td>\n",
       "    </tr>\n",
       "    <tr>\n",
       "      <th>50%</th>\n",
       "      <td>5443.660000</td>\n",
       "      <td>163.900000</td>\n",
       "      <td>6.100000</td>\n",
       "      <td>108.100000</td>\n",
       "    </tr>\n",
       "    <tr>\n",
       "      <th>75%</th>\n",
       "      <td>16781.420000</td>\n",
       "      <td>497.300000</td>\n",
       "      <td>11.700000</td>\n",
       "      <td>297.600000</td>\n",
       "    </tr>\n",
       "    <tr>\n",
       "      <th>max</th>\n",
       "      <td>504725.720000</td>\n",
       "      <td>6000.000000</td>\n",
       "      <td>53.800000</td>\n",
       "      <td>8223.700000</td>\n",
       "    </tr>\n",
       "  </tbody>\n",
       "</table>\n",
       "</div>"
      ],
      "text/plain": [
       "       Capital Asset Value For Amenity Trees  Carbon Storage In Kilograms  \\\n",
       "count                           22982.000000                 20555.000000   \n",
       "mean                            14056.393047                   467.465454   \n",
       "std                             24803.806595                   844.926555   \n",
       "min                                 0.000000                     0.500000   \n",
       "25%                              1035.650000                    24.800000   \n",
       "50%                              5443.660000                   163.900000   \n",
       "75%                             16781.420000                   497.300000   \n",
       "max                            504725.720000                  6000.000000   \n",
       "\n",
       "       Gross Carbon Sequestration Per Year In Kilograms  \\\n",
       "count                                      20555.000000   \n",
       "mean                                           8.675057   \n",
       "std                                            8.681446   \n",
       "min                                            0.000000   \n",
       "25%                                            2.200000   \n",
       "50%                                            6.100000   \n",
       "75%                                           11.700000   \n",
       "max                                           53.800000   \n",
       "\n",
       "       Pollution Removal Per Year In Grams  \n",
       "count                         20555.000000  \n",
       "mean                            217.740316  \n",
       "std                             306.751920  \n",
       "min                               0.300000  \n",
       "25%                              29.300000  \n",
       "50%                             108.100000  \n",
       "75%                             297.600000  \n",
       "max                            8223.700000  "
      ]
     },
     "execution_count": 35,
     "metadata": {},
     "output_type": "execute_result"
    }
   ],
   "source": [
    "# Get the descriptive stats for all numeric columns\n",
    "# TODO\n",
    "environmental.describe()"
   ]
  },
  {
   "cell_type": "code",
   "execution_count": 36,
   "id": "d0f77821-130d-4f5d-b92e-0ce89e6b3bcd",
   "metadata": {},
   "outputs": [
    {
     "data": {
      "text/plain": [
       "Identifier                                           object\n",
       "Maturity                                             object\n",
       "Physiological Condition                              object\n",
       "Tree Set To Be Removed                               object\n",
       "Removal Reason                                       object\n",
       "Capital Asset Value For Amenity Trees               float64\n",
       "Carbon Storage In Kilograms                         float64\n",
       "Gross Carbon Sequestration Per Year In Kilograms    float64\n",
       "Pollution Removal Per Year In Grams                 float64\n",
       "dtype: object"
      ]
     },
     "execution_count": 36,
     "metadata": {},
     "output_type": "execute_result"
    }
   ],
   "source": [
    "# Remind ourselves of the data types\n",
    "# TODO\n",
    "environmental.dtypes"
   ]
  },
  {
   "cell_type": "markdown",
   "id": "eb227586-d79a-46b9-a665-854b330a4c72",
   "metadata": {},
   "source": [
    "<hr/>\n",
    "\n",
    "Find out if floats are really floats or ints with nulls.\n",
    "\n",
    "<div style=\"background-color:lemonchiffon; border:1px solid; padding:5px; margin:5px; font-weight:bold\"><font color=\"crimson\">\n",
    "TODO: Enter your code below.  Use one code cell per column.   Add as many cells as you need.\n",
    "    </font></div>"
   ]
  },
  {
   "cell_type": "code",
   "execution_count": 35,
   "id": "7a002457",
   "metadata": {},
   "outputs": [
    {
     "data": {
      "text/plain": [
       "0      115.07\n",
       "1     7518.08\n",
       "2    20419.63\n",
       "3    21447.74\n",
       "4      524.30\n",
       "Name: Capital Asset Value For Amenity Trees, dtype: float64"
      ]
     },
     "execution_count": 35,
     "metadata": {},
     "output_type": "execute_result"
    }
   ],
   "source": [
    "environmental[\"Capital Asset Value For Amenity Trees\"].head()"
   ]
  },
  {
   "cell_type": "code",
   "execution_count": 44,
   "id": "20d9ddc5-3be9-4836-bc1a-5974d9b6b6b8",
   "metadata": {},
   "outputs": [
    {
     "data": {
      "text/plain": [
       "array([1.1507000e+02, 7.5180800e+03, 2.0419630e+04, ..., 3.3664130e+04,\n",
       "       3.6269450e+04, 1.4801215e+05])"
      ]
     },
     "execution_count": 44,
     "metadata": {},
     "output_type": "execute_result"
    }
   ],
   "source": [
    "environmental[\"Capital Asset Value For Amenity Trees\"].unique()"
   ]
  },
  {
   "cell_type": "code",
   "execution_count": 37,
   "id": "a2c01969",
   "metadata": {},
   "outputs": [
    {
     "data": {
      "text/plain": [
       "0      1.6\n",
       "1      NaN\n",
       "2    426.4\n",
       "3    448.3\n",
       "4      9.9\n",
       "Name: Carbon Storage In Kilograms, dtype: float64"
      ]
     },
     "execution_count": 37,
     "metadata": {},
     "output_type": "execute_result"
    }
   ],
   "source": [
    "environmental[\"Carbon Storage In Kilograms\"].head()"
   ]
  },
  {
   "cell_type": "code",
   "execution_count": 36,
   "id": "0ac2cda7-cc1c-4a51-935e-033958ee9072",
   "metadata": {},
   "outputs": [
    {
     "data": {
      "text/plain": [
       "array([1.6000e+00,        nan, 4.2640e+02, ..., 4.7233e+03, 3.7305e+03,\n",
       "       4.8100e+02])"
      ]
     },
     "execution_count": 36,
     "metadata": {},
     "output_type": "execute_result"
    }
   ],
   "source": [
    "environmental[\"Carbon Storage In Kilograms\"].unique()"
   ]
  },
  {
   "cell_type": "code",
   "execution_count": 41,
   "id": "2e3b8617",
   "metadata": {},
   "outputs": [
    {
     "data": {
      "text/plain": [
       "0    0.5\n",
       "1    NaN\n",
       "2    8.8\n",
       "3    9.6\n",
       "4    1.4\n",
       "Name: Gross Carbon Sequestration Per Year In Kilograms, dtype: float64"
      ]
     },
     "execution_count": 41,
     "metadata": {},
     "output_type": "execute_result"
    }
   ],
   "source": [
    "environmental[\"Gross Carbon Sequestration Per Year In Kilograms\"].head()"
   ]
  },
  {
   "cell_type": "code",
   "execution_count": 38,
   "id": "5503930d-debf-40d0-b845-e00adc7ac40b",
   "metadata": {},
   "outputs": [
    {
     "data": {
      "text/plain": [
       "array([ 0.5,  nan,  8.8,  9.6,  1.4, 10.1,  0.8,  7.9, 24.2,  2.4,  0.9,\n",
       "        3. , 14.6,  8.1,  4.1,  1.8, 18.8, 24.4, 13.4,  4.3,  6.5,  1.3,\n",
       "        0.6,  2.5, 13.1,  2.1,  3.9, 15.9,  1. ,  6.6,  0.4,  3.4,  2.9,\n",
       "       28.7,  0.7,  1.5, 12.5, 25.4, 11.2,  9. , 23.9,  4.4, 11.5, 11. ,\n",
       "        8.4, 10.9, 10.7,  6.9,  7. ,  3.8,  3.2,  6.1,  8.6, 30.2,  3.7,\n",
       "       15. , 30.4,  7.6, 20.1, 10.2,  8.3, 39.9,  0.3,  4.9, 14.3, 13.5,\n",
       "       16.7,  8.9,  1.6,  4.2,  3.6,  4. ,  6.7,  0.1, 19.7, 24.6,  6.4,\n",
       "        5.4,  5.9, 12.2,  7.3, 13. ,  7.1, 36.9,  9.3, 18.2, 10. ,  4.7,\n",
       "        5. , 29.8, 17.8, 18.5, 17.6,  7.2,  4.8,  5.6,  5.3, 10.5, 12.9,\n",
       "        9.4,  7.8,  1.1, 19.2, 37.3,  2.7, 12.8, 17. , 15.5, 27.6, 34.2,\n",
       "        5.7,  5.8, 17.3, 20.4,  9.9, 15.6,  7.4, 11.8,  9.2,  2.6, 21.7,\n",
       "       11.3, 10.8, 29.4, 23.1, 26.5,  1.2, 10.6, 33.6, 23.6, 11.7, 17.4,\n",
       "       15.1, 16.6,  2.3, 13.3, 16.3, 18.3, 10.4, 19. ,  1.7,  3.3, 14.1,\n",
       "        5.5, 12.6, 14.5,  3.5,  8.7, 36.6, 17.7,  5.1, 21.1, 20.2,  7.7,\n",
       "       15.2,  7.5, 30.5, 13.8,  4.6, 39.2, 37.8, 13.2, 51. , 11.6,  6.8,\n",
       "       21. ,  5.2,  8. ,  4.5, 15.3, 13.7, 18. ,  6.3,  2. ,  2.8,  9.1,\n",
       "        6. , 12.4, 11.4, 18.6,  1.9, 23.5, 18.9, 26.2, 12.1, 41.7,  2.2,\n",
       "       14.7, 14.4,  9.7, 23. , 22.1, 15.7, 12. , 14.8, 19.9, 29.7, 11.1,\n",
       "       19.6, 12.7, 31.9, 33.2, 19.1,  6.2, 28.4, 27. , 17.5, 16.4, 27.7,\n",
       "       38.4, 43.9, 35.4,  8.2, 37.1, 29.5, 22.2, 17.1, 26.3, 21.2, 20.5,\n",
       "       11.9, 31.3, 14.2,  8.5, 26.8,  0.2, 16.8, 35.6, 20.8, 22.3, 19.4,\n",
       "       20. , 14. , 36.1, 20.9, 15.8, 14.9,  9.5, 28.3, 16.9,  3.1, 37.6,\n",
       "       34.7, 17.9, 35.3,  9.8, 16.5, 21.4, 19.3, 28.5, 29. , 33.5, 40.7,\n",
       "       28.6, 13.6, 27.1, 26.7, 13.9, 21.3, 23.8, 35.1, 40.5, 32.9, 18.1,\n",
       "       37. , 20.6, 35.2, 12.3, 41.8, 22.7, 21.5, 35.7, 32.4, 16.1, 31.1,\n",
       "       25.3, 26. , 23.4, 30.1, 42.1, 36.5, 10.3, 44.3, 16. , 23.2, 28.8,\n",
       "       21.9, 32. , 30.3, 15.4, 24.3, 26.9, 25.8, 28.2, 22.8, 42.3, 33.9,\n",
       "       25.6, 38.6, 18.4, 31.2, 32.7, 28. , 30.6, 42. , 27.3, 33.8, 21.6,\n",
       "       33.3, 35.9, 24. , 40.6, 42.7, 31.5, 22.5, 20.7, 33.1, 35.5, 27.5,\n",
       "       24.8, 26.4, 22.6, 18.7, 32.6, 36.4, 16.2, 38.5, 22.4, 22.9, 29.2,\n",
       "       25.9, 19.5, 24.5, 20.3, 27.9, 29.6, 25. , 27.4, 30.7, 25.1, 34.6,\n",
       "       38. , 34.4, 36.7, 34.1, 32.5, 27.8, 32.8, 43.1, 17.2, 37.5, 39.3,\n",
       "       29.1, 30.8, 34.8, 29.9, 38.3, 23.3, 21.8, 41.3, 38.7, 36.3, 30. ,\n",
       "       41.5, 37.2, 24.9, 19.8, 28.9, 42.2, 39.5, 31.8, 37.4, 24.1,  0. ,\n",
       "       37.7, 32.3, 36.8, 27.2, 24.7, 36.2, 39.7, 42.9, 49.5, 31.6, 38.9,\n",
       "       40.9, 44.2, 32.1, 42.5, 25.7, 35.8, 38.2, 40.8, 35. , 34. , 31.7,\n",
       "       40.1, 26.1, 25.2, 39. , 41.1, 33.4, 32.2, 43.3, 33.7, 26.6, 39.1,\n",
       "       41.4, 43.2, 31. , 41.9, 41. , 42.4, 43. , 40.3, 40.2, 29.3, 31.4,\n",
       "       22. , 42.8, 43.7, 23.7, 34.5, 41.6, 39.6, 39.8, 37.9, 43.8, 42.6,\n",
       "       41.2, 43.6, 36. , 39.4, 43.5, 25.5, 38.1, 34.9, 28.1, 43.4, 53.8,\n",
       "       30.9, 40.4, 34.3, 45.5, 52.7, 40. , 38.8, 44.9, 33. ])"
      ]
     },
     "execution_count": 38,
     "metadata": {},
     "output_type": "execute_result"
    }
   ],
   "source": [
    "environmental[\"Gross Carbon Sequestration Per Year In Kilograms\"].unique()"
   ]
  },
  {
   "cell_type": "code",
   "execution_count": 40,
   "id": "c606a146",
   "metadata": {},
   "outputs": [
    {
     "data": {
      "text/plain": [
       "0      5.7\n",
       "1      NaN\n",
       "2    215.2\n",
       "3    379.1\n",
       "4     12.8\n",
       "Name: Pollution Removal Per Year In Grams, dtype: float64"
      ]
     },
     "execution_count": 40,
     "metadata": {},
     "output_type": "execute_result"
    }
   ],
   "source": [
    "environmental[\"Pollution Removal Per Year In Grams\"].head()"
   ]
  },
  {
   "cell_type": "code",
   "execution_count": 39,
   "id": "2a1ad19d-b9d9-4752-a876-c39121829f22",
   "metadata": {},
   "outputs": [
    {
     "data": {
      "text/plain": [
       "array([  5.7,   nan, 215.2, ...,   8. , 399.9,  60.1])"
      ]
     },
     "execution_count": 39,
     "metadata": {},
     "output_type": "execute_result"
    }
   ],
   "source": [
    "environmental[\"Pollution Removal Per Year In Grams\"].unique()"
   ]
  },
  {
   "cell_type": "markdown",
   "id": "6d550cf1-defa-4c65-9fcf-7d334a0c8899",
   "metadata": {},
   "source": [
    "<hr/>"
   ]
  },
  {
   "cell_type": "markdown",
   "id": "8bda5350-317b-43c1-91b1-71aeedf06ed3",
   "metadata": {},
   "source": [
    "\n",
    "Classify the columns as discrete or continuous.\n",
    "\n",
    "<div style=\"background-color:lemonchiffon; border:1px solid; padding:5px; margin:5px; font-weight:bold\"><font color=\"crimson\">\n",
    "TODO: Enter markdown below.\n",
    "    </font></div>\n"
   ]
  },
  {
   "cell_type": "markdown",
   "id": "e90ac26a-3015-491c-9c5d-a0d1b47c1f94",
   "metadata": {},
   "source": [
    "ENTER MARKDOWN HERE\n",
    "\n",
    "Capital Asset Value For Amenity Tree: **Continuous**.\n",
    "\n",
    "Carbon Storage In Kilograms: **Continuous**.\n",
    "\n",
    "Gross Carbon Sequestration Per Year In Kilograms: **Continuous**.\n",
    "\n",
    "Pollution Removal Per Year In Grams: **Continuous**."
   ]
  },
  {
   "cell_type": "markdown",
   "id": "1467aacd-ee75-46c9-b1d9-753c78869723",
   "metadata": {},
   "source": [
    "<hr/>"
   ]
  },
  {
   "cell_type": "markdown",
   "id": "5edacbd1-2ef6-4719-acc7-2d8f630d4195",
   "metadata": {},
   "source": [
    "### 3.3 Further Inspect the Common Names Dataset\n",
    "Now repeat the above for the common names dataset.\n",
    "\n",
    "#### 3.3.a (Names) Counts of Values for String Type Columns \n",
    "For each string column in the common names dataset show the counts of the unique values.\n",
    "\n",
    "<div style=\"background-color:lemonchiffon; border:1px solid; padding:5px; margin:5px; font-weight:bold\"><font color=\"crimson\">\n",
    "<font color=\"crimson\">TODO: Enter your code below.  Use one code cell per column and then add a markdown cell after each one to classify the column.  Add as many cells as you need.</font>\n",
    "    </font></div>\n"
   ]
  },
  {
   "cell_type": "code",
   "execution_count": 42,
   "id": "0c83c5e3-e84a-4e29-a05c-2c10b7d5dfb0",
   "metadata": {},
   "outputs": [
    {
     "data": {
      "text/plain": [
       "Scientific Name    object\n",
       "Common Name        object\n",
       "dtype: object"
      ]
     },
     "execution_count": 42,
     "metadata": {},
     "output_type": "execute_result"
    }
   ],
   "source": [
    "names.dtypes"
   ]
  },
  {
   "cell_type": "code",
   "execution_count": 43,
   "id": "ca5c98b7-a9c5-4ece-bb76-ed03a804525e",
   "metadata": {},
   "outputs": [
    {
     "data": {
      "text/plain": [
       "Cupressocyparis leylandii                             2\n",
       "Larix decidua                                         2\n",
       "Salix fragilis                                        2\n",
       "Alnus cordata                                         2\n",
       "Populus nigra                                         2\n",
       "                                                     ..\n",
       "Pyrus salicifolia 'Pendula'                           1\n",
       "Chamaecyparis lawsoniana 'unid                        1\n",
       "Platanus x hispanica Tremonia                         1\n",
       "Vacant Tree Pit (planned: Gymnocladus dioicus)        1\n",
       "Vacant Tree Pit (planned: Liquidambar styraciflua)    1\n",
       "Name: Scientific Name, Length: 560, dtype: int64"
      ]
     },
     "execution_count": 43,
     "metadata": {},
     "output_type": "execute_result"
    }
   ],
   "source": [
    "names[\"Scientific Name\"].value_counts()"
   ]
  },
  {
   "cell_type": "markdown",
   "id": "1bbbb2b9",
   "metadata": {},
   "source": [
    "Scientific Name is **qualitative nominal**."
   ]
  },
  {
   "cell_type": "code",
   "execution_count": 44,
   "id": "6e144307-026e-45ee-b0d2-025b7b5f3d9c",
   "metadata": {},
   "outputs": [
    {
     "data": {
      "text/plain": [
       "Cherry                         12\n",
       "Rowan                          10\n",
       "Magnolia                       10\n",
       "Vacant Tree Pit (planned: )    10\n",
       "Apple - Crab                    9\n",
       "                               ..\n",
       "Pittosporum                     1\n",
       "Birch - Purple                  1\n",
       "Maple - Column Norway           1\n",
       "Maple - Crimson King Norway     1\n",
       "Castlewellan gold               1\n",
       "Name: Common Name, Length: 431, dtype: int64"
      ]
     },
     "execution_count": 44,
     "metadata": {},
     "output_type": "execute_result"
    }
   ],
   "source": [
    "names[\"Common Name\"].value_counts()"
   ]
  },
  {
   "cell_type": "markdown",
   "id": "f425c9c7",
   "metadata": {},
   "source": [
    "Common Name is **qualitative nominal**."
   ]
  },
  {
   "cell_type": "markdown",
   "id": "2778e230-5042-42eb-b51a-022a1c9710cc",
   "metadata": {},
   "source": [
    "<hr/>\n"
   ]
  },
  {
   "cell_type": "markdown",
   "id": "8b9a614c-0c3f-41f1-9b30-7259bcb3a2d3",
   "metadata": {},
   "source": [
    "#### 3.3.b (Names) Descriptive Stats for Numeric Type Columns\n",
    "There are no numeric columns."
   ]
  },
  {
   "cell_type": "markdown",
   "id": "8641574f-7ee8-4cac-98d9-4c33a54891af",
   "metadata": {
    "tags": []
   },
   "source": [
    "## Task 4: Identify Missing Values\n",
    "Find the number of missing values in each column.  Missing values can indicate data quality issues.  Missing are nulls in our data.  But sometimes zero values indicate missing values.  For example, a zero value for a tree height is clearly not a valid valid, so should be considered missing.\n",
    "\n",
    "Use these functions to find rows that have missing and zero values:\n",
    "\n",
    "- [pandas.DataFrame.isnull](https://pandas.pydata.org/docs/reference/api/pandas.DataFrame.isnull.html)\n",
    "- [pandas.DataFrame.isin](https://pandas.pydata.org/docs/reference/api/pandas.DataFrame.isin.html)\n",
    "- [pandas.DataFrame.mean](https://pandas.pydata.org/pandas-docs/stable/reference/api/pandas.DataFrame.mean.html)\n",
    "- [pandas.DataFrame.sum](https://pandas.pydata.org/docs/reference/api/pandas.DataFrame.sum.html)\n",
    "\n",
    "As you go through this task, think about the possible impact of the missing values on the ability of the data to deliver on the council's initiatives.  There is no absolute answer to \"how many missing values is too many\".  It depends on the context of what you intend to do with the data.  Try to make an interpretation based on your understanding of the requirements."
   ]
  },
  {
   "cell_type": "markdown",
   "id": "5ee7f2e0-20bf-4249-9f5d-57ab6cc0fa30",
   "metadata": {},
   "source": [
    "### 4.1 Missing Values for the Trees Dataset\n",
    "I've shown you how to do this for the trees dataset."
   ]
  },
  {
   "cell_type": "code",
   "execution_count": 45,
   "id": "0bd1e712-9211-44f8-a22c-fb1df46c1961",
   "metadata": {},
   "outputs": [
    {
     "data": {
      "text/plain": [
       "Identifier                                  0.000000\n",
       "Number Of Trees                             0.093841\n",
       "Site Name                                   0.000000\n",
       "Contract Area                               0.000000\n",
       "Scientific Name                             0.000000\n",
       "Inspection Date                             1.710459\n",
       "Inspection Due Date                         1.710459\n",
       "Height In Metres                            1.868282\n",
       "Spread In Metres                            1.868282\n",
       "Diameter In Centimetres At Breast Height    1.872547\n",
       "Ward Code                                   0.963999\n",
       "Ward Name                                   0.963999\n",
       "Easting                                     0.000000\n",
       "Northing                                    0.000000\n",
       "Longitude                                   0.238867\n",
       "Latitude                                    0.238867\n",
       "Location                                    0.238867\n",
       "dtype: float64"
      ]
     },
     "execution_count": 45,
     "metadata": {},
     "output_type": "execute_result"
    }
   ],
   "source": [
    "# Percentage of null values\n",
    "trees.isnull().mean()*100"
   ]
  },
  {
   "cell_type": "code",
   "execution_count": 46,
   "id": "afbf5093-5716-440a-8f89-eeb6a5d66662",
   "metadata": {},
   "outputs": [
    {
     "data": {
      "text/plain": [
       "Identifier                                    0\n",
       "Number Of Trees                              22\n",
       "Site Name                                     0\n",
       "Contract Area                                 0\n",
       "Scientific Name                               0\n",
       "Inspection Date                             401\n",
       "Inspection Due Date                         401\n",
       "Height In Metres                            438\n",
       "Spread In Metres                            438\n",
       "Diameter In Centimetres At Breast Height    439\n",
       "Ward Code                                   226\n",
       "Ward Name                                   226\n",
       "Easting                                       0\n",
       "Northing                                      0\n",
       "Longitude                                    56\n",
       "Latitude                                     56\n",
       "Location                                     56\n",
       "dtype: int64"
      ]
     },
     "execution_count": 46,
     "metadata": {},
     "output_type": "execute_result"
    }
   ],
   "source": [
    "# Number of null values\n",
    "trees.isnull().sum()"
   ]
  },
  {
   "cell_type": "code",
   "execution_count": 47,
   "id": "cde99d54-297d-41d8-954d-94ba2e08a2c5",
   "metadata": {},
   "outputs": [
    {
     "data": {
      "text/plain": [
       "Identifier                                  0.000000\n",
       "Number Of Trees                             0.396690\n",
       "Site Name                                   0.000000\n",
       "Contract Area                               0.000000\n",
       "Scientific Name                             0.000000\n",
       "Inspection Date                             0.000000\n",
       "Inspection Due Date                         0.000000\n",
       "Height In Metres                            0.733663\n",
       "Spread In Metres                            1.181539\n",
       "Diameter In Centimetres At Breast Height    1.164477\n",
       "Ward Code                                   0.000000\n",
       "Ward Name                                   0.000000\n",
       "Easting                                     0.238867\n",
       "Northing                                    0.238867\n",
       "Longitude                                   0.000000\n",
       "Latitude                                    0.000000\n",
       "Location                                    0.000000\n",
       "dtype: float64"
      ]
     },
     "execution_count": 47,
     "metadata": {},
     "output_type": "execute_result"
    }
   ],
   "source": [
    "# Percentage of zero values\n",
    "trees.isin([0]).mean()*100"
   ]
  },
  {
   "cell_type": "code",
   "execution_count": 48,
   "id": "d0947b5d-8978-46d8-8d57-252d29c25ca8",
   "metadata": {},
   "outputs": [
    {
     "data": {
      "text/plain": [
       "Identifier                                    0\n",
       "Number Of Trees                              93\n",
       "Site Name                                     0\n",
       "Contract Area                                 0\n",
       "Scientific Name                               0\n",
       "Inspection Date                               0\n",
       "Inspection Due Date                           0\n",
       "Height In Metres                            172\n",
       "Spread In Metres                            277\n",
       "Diameter In Centimetres At Breast Height    273\n",
       "Ward Code                                     0\n",
       "Ward Name                                     0\n",
       "Easting                                      56\n",
       "Northing                                     56\n",
       "Longitude                                     0\n",
       "Latitude                                      0\n",
       "Location                                      0\n",
       "dtype: int64"
      ]
     },
     "execution_count": 48,
     "metadata": {},
     "output_type": "execute_result"
    }
   ],
   "source": [
    "# Number of zero values\n",
    "trees.isin([0]).sum()"
   ]
  },
  {
   "cell_type": "code",
   "execution_count": 49,
   "id": "de03ea2b-8ea2-48ff-b620-d9fd16290c7b",
   "metadata": {},
   "outputs": [
    {
     "data": {
      "text/plain": [
       "Identifier                                  0.000000\n",
       "Number Of Trees                             0.004905\n",
       "Site Name                                   0.000000\n",
       "Contract Area                               0.000000\n",
       "Scientific Name                             0.000000\n",
       "Inspection Date                             0.017105\n",
       "Inspection Due Date                         0.017105\n",
       "Height In Metres                            0.026019\n",
       "Spread In Metres                            0.030498\n",
       "Diameter In Centimetres At Breast Height    0.030370\n",
       "Ward Code                                   0.009640\n",
       "Ward Name                                   0.009640\n",
       "Easting                                     0.002389\n",
       "Northing                                    0.002389\n",
       "Longitude                                   0.002389\n",
       "Latitude                                    0.002389\n",
       "Location                                    0.002389\n",
       "dtype: float64"
      ]
     },
     "execution_count": 49,
     "metadata": {},
     "output_type": "execute_result"
    }
   ],
   "source": [
    "# Percentage of null and zero values\n",
    "(trees.isnull().sum() + trees.isin([0]).sum())/trees.shape[0]"
   ]
  },
  {
   "cell_type": "code",
   "execution_count": 50,
   "id": "f43e38e0-00c6-4ebd-9899-8f91557becb7",
   "metadata": {},
   "outputs": [
    {
     "data": {
      "text/plain": [
       "Identifier                                    0\n",
       "Number Of Trees                             115\n",
       "Site Name                                     0\n",
       "Contract Area                                 0\n",
       "Scientific Name                               0\n",
       "Inspection Date                             401\n",
       "Inspection Due Date                         401\n",
       "Height In Metres                            610\n",
       "Spread In Metres                            715\n",
       "Diameter In Centimetres At Breast Height    712\n",
       "Ward Code                                   226\n",
       "Ward Name                                   226\n",
       "Easting                                      56\n",
       "Northing                                     56\n",
       "Longitude                                    56\n",
       "Latitude                                     56\n",
       "Location                                     56\n",
       "dtype: int64"
      ]
     },
     "execution_count": 50,
     "metadata": {},
     "output_type": "execute_result"
    }
   ],
   "source": [
    "# Number of null and zero values\n",
    "(trees.isnull().sum() + trees.isin([0]).sum())"
   ]
  },
  {
   "cell_type": "markdown",
   "id": "a7416001-4d63-4bd5-9bea-2412d322ed88",
   "metadata": {},
   "source": [
    "### 4.2 Missing Values for the Environmental Dataset\n",
    "Now repeat the missing values check for the environmental dataset.\n",
    "\n",
    "<div style=\"background-color:lemonchiffon; border:1px solid; padding:5px; margin:5px; font-weight:bold\"><font color=\"crimson\">\n",
    "TODO: Complete the following code cells\n",
    "    </font></div>"
   ]
  },
  {
   "cell_type": "code",
   "execution_count": 45,
   "id": "45971fda-0b80-4652-bc63-ed8baeaad087",
   "metadata": {},
   "outputs": [
    {
     "data": {
      "text/plain": [
       "Identifier                                           0.000000\n",
       "Maturity                                             1.746744\n",
       "Physiological Condition                              2.015802\n",
       "Tree Set To Be Removed                               0.000000\n",
       "Removal Reason                                      99.641256\n",
       "Capital Asset Value For Amenity Trees                1.849242\n",
       "Carbon Storage In Kilograms                         12.214392\n",
       "Gross Carbon Sequestration Per Year In Kilograms    12.214392\n",
       "Pollution Removal Per Year In Grams                 12.214392\n",
       "dtype: float64"
      ]
     },
     "execution_count": 45,
     "metadata": {},
     "output_type": "execute_result"
    }
   ],
   "source": [
    "# Percentage of null values\n",
    "# TODO\n",
    "environmental.isnull().mean()*100"
   ]
  },
  {
   "cell_type": "code",
   "execution_count": 46,
   "id": "35471141-aca6-453d-afc8-babde8975f14",
   "metadata": {},
   "outputs": [
    {
     "data": {
      "text/plain": [
       "Identifier                                              0\n",
       "Maturity                                              409\n",
       "Physiological Condition                               472\n",
       "Tree Set To Be Removed                                  0\n",
       "Removal Reason                                      23331\n",
       "Capital Asset Value For Amenity Trees                 433\n",
       "Carbon Storage In Kilograms                          2860\n",
       "Gross Carbon Sequestration Per Year In Kilograms     2860\n",
       "Pollution Removal Per Year In Grams                  2860\n",
       "dtype: int64"
      ]
     },
     "execution_count": 46,
     "metadata": {},
     "output_type": "execute_result"
    }
   ],
   "source": [
    "# Number of null values\n",
    "# TODO\n",
    "environmental.isnull().sum()"
   ]
  },
  {
   "cell_type": "code",
   "execution_count": 47,
   "id": "333f86d0-8443-48b5-ba17-6bb91cfd1190",
   "metadata": {},
   "outputs": [
    {
     "data": {
      "text/plain": [
       "Identifier                                          0.000000\n",
       "Maturity                                            0.000000\n",
       "Physiological Condition                             0.000000\n",
       "Tree Set To Be Removed                              0.000000\n",
       "Removal Reason                                      0.000000\n",
       "Capital Asset Value For Amenity Trees               1.183002\n",
       "Carbon Storage In Kilograms                         0.000000\n",
       "Gross Carbon Sequestration Per Year In Kilograms    0.025625\n",
       "Pollution Removal Per Year In Grams                 0.000000\n",
       "dtype: float64"
      ]
     },
     "execution_count": 47,
     "metadata": {},
     "output_type": "execute_result"
    }
   ],
   "source": [
    "# Percentage of zero values\n",
    "# TODO\n",
    "environmental.isin([0]).mean()*100"
   ]
  },
  {
   "cell_type": "code",
   "execution_count": 48,
   "id": "809d3c20-113f-4665-b18d-cbdaa07b613c",
   "metadata": {},
   "outputs": [
    {
     "data": {
      "text/plain": [
       "Identifier                                            0\n",
       "Maturity                                              0\n",
       "Physiological Condition                               0\n",
       "Tree Set To Be Removed                                0\n",
       "Removal Reason                                        0\n",
       "Capital Asset Value For Amenity Trees               277\n",
       "Carbon Storage In Kilograms                           0\n",
       "Gross Carbon Sequestration Per Year In Kilograms      6\n",
       "Pollution Removal Per Year In Grams                   0\n",
       "dtype: int64"
      ]
     },
     "execution_count": 48,
     "metadata": {},
     "output_type": "execute_result"
    }
   ],
   "source": [
    "# Number of zero values\n",
    "# TODO\n",
    "environmental.isin([0]).sum()"
   ]
  },
  {
   "cell_type": "code",
   "execution_count": 49,
   "id": "bbada47a-e7aa-43be-bfca-624feda60cb7",
   "metadata": {},
   "outputs": [
    {
     "data": {
      "text/plain": [
       "Identifier                                          0.000000\n",
       "Maturity                                            0.017467\n",
       "Physiological Condition                             0.020158\n",
       "Tree Set To Be Removed                              0.000000\n",
       "Removal Reason                                      0.996413\n",
       "Capital Asset Value For Amenity Trees               0.030322\n",
       "Carbon Storage In Kilograms                         0.122144\n",
       "Gross Carbon Sequestration Per Year In Kilograms    0.122400\n",
       "Pollution Removal Per Year In Grams                 0.122144\n",
       "dtype: float64"
      ]
     },
     "execution_count": 49,
     "metadata": {},
     "output_type": "execute_result"
    }
   ],
   "source": [
    "# Percentage of null and zero values\n",
    "# TODO\n",
    "(environmental.isnull().sum() + environmental.isin([0]).sum())/environmental.shape[0]"
   ]
  },
  {
   "cell_type": "code",
   "execution_count": 50,
   "id": "27dcd851-d4a3-4014-9167-9330c033738d",
   "metadata": {},
   "outputs": [
    {
     "data": {
      "text/plain": [
       "Identifier                                              0\n",
       "Maturity                                              409\n",
       "Physiological Condition                               472\n",
       "Tree Set To Be Removed                                  0\n",
       "Removal Reason                                      23331\n",
       "Capital Asset Value For Amenity Trees                 710\n",
       "Carbon Storage In Kilograms                          2860\n",
       "Gross Carbon Sequestration Per Year In Kilograms     2866\n",
       "Pollution Removal Per Year In Grams                  2860\n",
       "dtype: int64"
      ]
     },
     "execution_count": 50,
     "metadata": {},
     "output_type": "execute_result"
    }
   ],
   "source": [
    "# Number of null and zero values\n",
    "# TODO\n",
    "(environmental.isnull().sum() + environmental.isin([0]).sum())"
   ]
  },
  {
   "cell_type": "markdown",
   "id": "cc5e09d4-fc27-454c-8462-f918e46a241e",
   "metadata": {},
   "source": [
    "<hr/>"
   ]
  },
  {
   "cell_type": "markdown",
   "id": "86bc5c0f-498e-47f1-b993-5ae66b325fc1",
   "metadata": {},
   "source": [
    "### 4.3 Missing Values for the Common Names Dataset\n",
    "Now repeat the missing values check for the common names dataset.\n",
    "\n",
    "<div style=\"background-color:lemonchiffon; border:1px solid; padding:5px; margin:5px; font-weight:bold\"><font color=\"crimson\">\n",
    "TODO: Enter your code below.  Add as many cells as you need.\n",
    "    </font></div>"
   ]
  },
  {
   "cell_type": "code",
   "execution_count": 51,
   "id": "84581b31-98a4-4b20-a7b3-af1685cf0131",
   "metadata": {},
   "outputs": [
    {
     "data": {
      "text/plain": [
       "Scientific Name    0.000000\n",
       "Common Name        4.074703\n",
       "dtype: float64"
      ]
     },
     "execution_count": 51,
     "metadata": {},
     "output_type": "execute_result"
    }
   ],
   "source": [
    "# Percentage of null values\n",
    "# TODO\n",
    "names.isnull().mean()*100"
   ]
  },
  {
   "cell_type": "code",
   "execution_count": 52,
   "id": "b881b1d4-661d-46f6-943a-a5037f98facb",
   "metadata": {},
   "outputs": [
    {
     "data": {
      "text/plain": [
       "Scientific Name     0\n",
       "Common Name        24\n",
       "dtype: int64"
      ]
     },
     "execution_count": 52,
     "metadata": {},
     "output_type": "execute_result"
    }
   ],
   "source": [
    "# Number of null values\n",
    "# TODO\n",
    "names.isnull().sum()"
   ]
  },
  {
   "cell_type": "code",
   "execution_count": 53,
   "id": "ea761b23",
   "metadata": {},
   "outputs": [
    {
     "data": {
      "text/plain": [
       "Scientific Name    0.0\n",
       "Common Name        0.0\n",
       "dtype: float64"
      ]
     },
     "execution_count": 53,
     "metadata": {},
     "output_type": "execute_result"
    }
   ],
   "source": [
    "# Percentage of zero values\n",
    "# TODO\n",
    "names.isin([0]).mean()*100"
   ]
  },
  {
   "cell_type": "code",
   "execution_count": 54,
   "id": "9ea215ae",
   "metadata": {},
   "outputs": [
    {
     "data": {
      "text/plain": [
       "Scientific Name    0\n",
       "Common Name        0\n",
       "dtype: int64"
      ]
     },
     "execution_count": 54,
     "metadata": {},
     "output_type": "execute_result"
    }
   ],
   "source": [
    "# Number of zero values\n",
    "# TODO\n",
    "names.isin([0]).sum()"
   ]
  },
  {
   "cell_type": "code",
   "execution_count": 55,
   "id": "547ba4c0",
   "metadata": {},
   "outputs": [
    {
     "data": {
      "text/plain": [
       "Scientific Name    0.000000\n",
       "Common Name        0.001025\n",
       "dtype: float64"
      ]
     },
     "execution_count": 55,
     "metadata": {},
     "output_type": "execute_result"
    }
   ],
   "source": [
    "# Percentage of null and zero values\n",
    "# TODO\n",
    "(names.isnull().sum() + names.isin([0]).sum())/environmental.shape[0]"
   ]
  },
  {
   "cell_type": "code",
   "execution_count": 56,
   "id": "378e8b7e",
   "metadata": {
    "collapsed": true
   },
   "outputs": [
    {
     "data": {
      "text/plain": [
       "Scientific Name     0\n",
       "Common Name        24\n",
       "dtype: int64"
      ]
     },
     "execution_count": 56,
     "metadata": {},
     "output_type": "execute_result"
    }
   ],
   "source": [
    "# Number of null and zero values\n",
    "# TODO\n",
    "(names.isnull().sum() + names.isin([0]).sum())"
   ]
  },
  {
   "cell_type": "markdown",
   "id": "fe30f689-88b0-4526-abae-1e19a320acf9",
   "metadata": {},
   "source": [
    "<hr/>\n",
    "\n",
    "### 4.4 Observations\n",
    "\n",
    "<div style=\"background-color:lemonchiffon; border:1px solid; padding:5px; margin:5px; font-weight:bold\"><font color=\"crimson\">\n",
    "TODO: Write down your observation about the state of missing values below and comment on the extent to which this might impact the ability to deliver on the council's initiatives.\n",
    "    </font></div>\n"
   ]
  },
  {
   "cell_type": "markdown",
   "id": "ec7ce6ee-8fd6-446a-a63a-08babd1e0390",
   "metadata": {},
   "source": [
    "ENTER MARKDOWN HERE\n",
    "\n",
    "camden can not provide a list of all trees in the borough on their website because, there are missing values and 0 values within the tree data. however there are only 22 missing values. the zero values suggest there were  no trees in that area. \n",
    "\n",
    "For the tree walk brochure there are 56 missing locations so the trees can be missing in that area or the person recording the data did not record the location. I suggest that the survey should be done by multiple people to double check. \n",
    "\n",
    "for the environmental report, camden council can not have a page that shows the total carbon pollution benefit because there are too many missing values for: \"Carbon Storage In Kilograms\", \"Gross Carbon Sequestration Per Year In Kilograms\", and \"Pollution Removal Per Year In Grams\". All three have 2860 missing values. 2860 makes up over 10% of missing values.   "
   ]
  },
  {
   "cell_type": "markdown",
   "id": "a4094437-06e3-4376-9c94-14e30a910c36",
   "metadata": {},
   "source": [
    "\n",
    "<hr/>"
   ]
  },
  {
   "cell_type": "markdown",
   "id": "33d42c68-e660-4892-b2de-0552a062c7ff",
   "metadata": {
    "tags": []
   },
   "source": [
    "## Task 5: Identify Outliers in the Trees Dimensions\n",
    "Outliers are values that are so unusual they are possibly incorrect!  We can use a boxplot to show the spread of data and any outliers.  Read the following section if you are unfamiliar with them:\n",
    "\n",
    "- [Box plots](https://openclassrooms.com/en/courses/6037301-perform-an-initial-data-analysis/6052306-calculate-the-value-spread-in-your-data#/id/r-6133902)\n",
    "\n",
    "Any circles represent what the boxplot considers outliers, but some of these might just be correct but extreme values.  We want to only highlight really *crazy* values which are clearly incorrect.\n",
    "\n",
    "We can use this function to draw boxplots:\n",
    "\n",
    "- [pandas.DataFrame.boxplot](https://pandas.pydata.org/pandas-docs/stable/reference/api/pandas.DataFrame.plot.html)\n",
    "\n",
    "Once we have found if there are outliers, it would be nice to show the rows containing the outliers.  The technique for filtering Pandas DataFrames is described here:\n",
    "\n",
    "- [Filtering Pandas DataFrames](https://pandas.pydata.org/pandas-docs/stable/getting_started/intro_tutorials/03_subset_data.html)\n",
    "\n",
    "The filtering technique creates a mask of rows that we want to select, e.g:\n",
    "\n",
    "`mask = df['mycolumn'] > 500`\n",
    "\n",
    "and then uses the mask to select rows:\n",
    "\n",
    "`df[mask]`\n",
    "\n",
    "Note that there is no absolute definition of what \"crazy\" means here.  You will need to make some judgements based on your understanding of the world (or specifically the world of trees in Camden!)."
   ]
  },
  {
   "cell_type": "markdown",
   "id": "52de8466-d0ed-4c29-af9a-bf7c79b80c09",
   "metadata": {},
   "source": [
    "### 5.1 Outliers for Height\n",
    "Find the outliers in the tree height column.\n",
    "<div style=\"background-color:lemonchiffon; border:1px solid; padding:5px; margin:5px; font-weight:bold\"><font color=\"crimson\">\n",
    "TODO: Complete the following code cells\n",
    "    </font></div>"
   ]
  },
  {
   "cell_type": "code",
   "execution_count": 57,
   "id": "ecaa87b9-9558-4fd6-8383-3a8046d26a5c",
   "metadata": {},
   "outputs": [
    {
     "data": {
      "image/png": "[encoded data removed]",
      "text/plain": [
       "<Figure size 640x480 with 1 Axes>"
      ]
     },
     "metadata": {},
     "output_type": "display_data"
    }
   ],
   "source": [
    "# Use a boxplot to find the outliers\n",
    "# TODO\n",
    "import matplotlib.pyplot as plt\n",
    "trees.boxplot(\"Height In Metres\")\n",
    "plt.show()"
   ]
  },
  {
   "cell_type": "code",
   "execution_count": 58,
   "id": "7a614957-0a50-41f2-bebd-ca48e3660674",
   "metadata": {},
   "outputs": [
    {
     "data": {
      "image/png": "[encoded data removed]",
      "text/plain": [
       "<Figure size 640x480 with 1 Axes>"
      ]
     },
     "metadata": {},
     "output_type": "display_data"
    },
    {
     "data": {
      "text/html": [
       "<div>\n",
       "<style scoped>\n",
       "    .dataframe tbody tr th:only-of-type {\n",
       "        vertical-align: middle;\n",
       "    }\n",
       "\n",
       "    .dataframe tbody tr th {\n",
       "        vertical-align: top;\n",
       "    }\n",
       "\n",
       "    .dataframe thead th {\n",
       "        text-align: right;\n",
       "    }\n",
       "</style>\n",
       "<table border=\"1\" class=\"dataframe\">\n",
       "  <thead>\n",
       "    <tr style=\"text-align: right;\">\n",
       "      <th></th>\n",
       "      <th>Identifier</th>\n",
       "      <th>Number Of Trees</th>\n",
       "      <th>Site Name</th>\n",
       "      <th>Contract Area</th>\n",
       "      <th>Scientific Name</th>\n",
       "      <th>Inspection Date</th>\n",
       "      <th>Inspection Due Date</th>\n",
       "      <th>Height In Metres</th>\n",
       "      <th>Spread In Metres</th>\n",
       "      <th>Diameter In Centimetres At Breast Height</th>\n",
       "      <th>Ward Code</th>\n",
       "      <th>Ward Name</th>\n",
       "      <th>Easting</th>\n",
       "      <th>Northing</th>\n",
       "      <th>Longitude</th>\n",
       "      <th>Latitude</th>\n",
       "      <th>Location</th>\n",
       "    </tr>\n",
       "  </thead>\n",
       "  <tbody>\n",
       "    <tr>\n",
       "      <th>1356</th>\n",
       "      <td>00001547</td>\n",
       "      <td>1.0</td>\n",
       "      <td>Beaumont Walk Estate</td>\n",
       "      <td>Housing</td>\n",
       "      <td>Robinia pseudoacacia</td>\n",
       "      <td>2017-05-23</td>\n",
       "      <td>2020/2021</td>\n",
       "      <td>96.0</td>\n",
       "      <td>10.0</td>\n",
       "      <td>63.0</td>\n",
       "      <td>E05000136</td>\n",
       "      <td>Haverstock</td>\n",
       "      <td>527847</td>\n",
       "      <td>184391</td>\n",
       "      <td>-0.157739</td>\n",
       "      <td>51.543941</td>\n",
       "      <td>(51.543941, -0.157739)</td>\n",
       "    </tr>\n",
       "    <tr>\n",
       "      <th>1863</th>\n",
       "      <td>00013862</td>\n",
       "      <td>1.0</td>\n",
       "      <td>Maitland Park Estate 1</td>\n",
       "      <td>Housing</td>\n",
       "      <td>Prunus avium</td>\n",
       "      <td>2017-05-16</td>\n",
       "      <td>2020/2021</td>\n",
       "      <td>127.0</td>\n",
       "      <td>9.0</td>\n",
       "      <td>34.0</td>\n",
       "      <td>E05000136</td>\n",
       "      <td>Haverstock</td>\n",
       "      <td>527987</td>\n",
       "      <td>184901</td>\n",
       "      <td>-0.155534</td>\n",
       "      <td>51.548497</td>\n",
       "      <td>(51.548497, -0.155534)</td>\n",
       "    </tr>\n",
       "  </tbody>\n",
       "</table>\n",
       "</div>"
      ],
      "text/plain": [
       "     Identifier  Number Of Trees               Site Name Contract Area  \\\n",
       "1356   00001547              1.0    Beaumont Walk Estate       Housing   \n",
       "1863   00013862              1.0  Maitland Park Estate 1       Housing   \n",
       "\n",
       "           Scientific Name Inspection Date Inspection Due Date  \\\n",
       "1356  Robinia pseudoacacia      2017-05-23           2020/2021   \n",
       "1863          Prunus avium      2017-05-16           2020/2021   \n",
       "\n",
       "      Height In Metres  Spread In Metres  \\\n",
       "1356              96.0              10.0   \n",
       "1863             127.0               9.0   \n",
       "\n",
       "      Diameter In Centimetres At Breast Height  Ward Code   Ward Name  \\\n",
       "1356                                      63.0  E05000136  Haverstock   \n",
       "1863                                      34.0  E05000136  Haverstock   \n",
       "\n",
       "      Easting  Northing  Longitude   Latitude                Location  \n",
       "1356   527847    184391  -0.157739  51.543941  (51.543941, -0.157739)  \n",
       "1863   527987    184901  -0.155534  51.548497  (51.548497, -0.155534)  "
      ]
     },
     "execution_count": 58,
     "metadata": {},
     "output_type": "execute_result"
    }
   ],
   "source": [
    "# Select the crazy outlier rows\n",
    "# TODO\n",
    "height_outliers = trees[trees[\"Height In Metres\"] > 80]\n",
    "below_80 = trees[trees[\"Height In Metres\"] < 80]\n",
    "below_80.boxplot(\"Height In Metres\")\n",
    "plt.show()\n",
    "height_outliers.head()"
   ]
  },
  {
   "cell_type": "markdown",
   "id": "c3e7ff2b-b69c-4095-a20d-bd6d2df1e68a",
   "metadata": {},
   "source": [
    "<hr/>"
   ]
  },
  {
   "cell_type": "markdown",
   "id": "f4d3025c-4a29-42e3-8821-8df2d8daa5e0",
   "metadata": {},
   "source": [
    "### 5.2 Outliers for Spread\n",
    "Now repeat the analysis for spread.\n",
    "<div style=\"background-color:lemonchiffon; border:1px solid; padding:5px; margin:5px; font-weight:bold\"><font color=\"crimson\">\n",
    "TODO: Complete the following code cells\n",
    "    </font></div>"
   ]
  },
  {
   "cell_type": "code",
   "execution_count": 59,
   "id": "ce6760cf-78d0-465d-b4a3-f199596983fa",
   "metadata": {},
   "outputs": [
    {
     "data": {
      "image/png": "[encoded data removed]",
      "text/plain": [
       "<Figure size 640x480 with 1 Axes>"
      ]
     },
     "metadata": {},
     "output_type": "display_data"
    }
   ],
   "source": [
    "# Use a boxplot to find the outliers\n",
    "# TODO\n",
    "trees.boxplot(\"Spread In Metres\")\n",
    "plt.show()"
   ]
  },
  {
   "cell_type": "code",
   "execution_count": 54,
   "id": "6ab3697f-02f9-4e35-acd7-520ac7a1aa83",
   "metadata": {},
   "outputs": [
    {
     "data": {
      "image/png": "[encoded data removed]",
      "text/plain": [
       "<Figure size 640x480 with 1 Axes>"
      ]
     },
     "metadata": {},
     "output_type": "display_data"
    },
    {
     "data": {
      "text/html": [
       "<div>\n",
       "<style scoped>\n",
       "    .dataframe tbody tr th:only-of-type {\n",
       "        vertical-align: middle;\n",
       "    }\n",
       "\n",
       "    .dataframe tbody tr th {\n",
       "        vertical-align: top;\n",
       "    }\n",
       "\n",
       "    .dataframe thead th {\n",
       "        text-align: right;\n",
       "    }\n",
       "</style>\n",
       "<table border=\"1\" class=\"dataframe\">\n",
       "  <thead>\n",
       "    <tr style=\"text-align: right;\">\n",
       "      <th></th>\n",
       "      <th>Identifier</th>\n",
       "      <th>Number Of Trees</th>\n",
       "      <th>Site Name</th>\n",
       "      <th>Contract Area</th>\n",
       "      <th>Scientific Name</th>\n",
       "      <th>Inspection Date</th>\n",
       "      <th>Inspection Due Date</th>\n",
       "      <th>Height In Metres</th>\n",
       "      <th>Spread In Metres</th>\n",
       "      <th>Diameter In Centimetres At Breast Height</th>\n",
       "      <th>Ward Code</th>\n",
       "      <th>Ward Name</th>\n",
       "      <th>Easting</th>\n",
       "      <th>Northing</th>\n",
       "      <th>Longitude</th>\n",
       "      <th>Latitude</th>\n",
       "      <th>Location</th>\n",
       "    </tr>\n",
       "  </thead>\n",
       "  <tbody>\n",
       "    <tr>\n",
       "      <th>18567</th>\n",
       "      <td>00045515</td>\n",
       "      <td>1.0</td>\n",
       "      <td>Broadfield Estate 1</td>\n",
       "      <td>Housing</td>\n",
       "      <td>Quercus robur</td>\n",
       "      <td>2018-04-26</td>\n",
       "      <td>2021/2022</td>\n",
       "      <td>8.0</td>\n",
       "      <td>88.0</td>\n",
       "      <td>17.0</td>\n",
       "      <td>E05000144</td>\n",
       "      <td>Swiss Cottage</td>\n",
       "      <td>525993</td>\n",
       "      <td>184693</td>\n",
       "      <td>-0.184348</td>\n",
       "      <td>51.547074</td>\n",
       "      <td>(51.547074, -0.184348)</td>\n",
       "    </tr>\n",
       "  </tbody>\n",
       "</table>\n",
       "</div>"
      ],
      "text/plain": [
       "      Identifier  Number Of Trees            Site Name Contract Area  \\\n",
       "18567   00045515              1.0  Broadfield Estate 1       Housing   \n",
       "\n",
       "      Scientific Name Inspection Date Inspection Due Date  Height In Metres  \\\n",
       "18567   Quercus robur      2018-04-26           2021/2022               8.0   \n",
       "\n",
       "       Spread In Metres  Diameter In Centimetres At Breast Height  Ward Code  \\\n",
       "18567              88.0                                      17.0  E05000144   \n",
       "\n",
       "           Ward Name  Easting  Northing  Longitude   Latitude  \\\n",
       "18567  Swiss Cottage   525993    184693  -0.184348  51.547074   \n",
       "\n",
       "                     Location  \n",
       "18567  (51.547074, -0.184348)  "
      ]
     },
     "execution_count": 54,
     "metadata": {},
     "output_type": "execute_result"
    }
   ],
   "source": [
    "# Select the crazy outlier rows (if any)\n",
    "# TODO\n",
    "spread_outliers = trees[trees[\"Spread In Metres\"] > 40]\n",
    "below_40 = trees[trees[\"Spread In Metres\"] < 40]\n",
    "below_40.boxplot(\"Spread In Metres\")\n",
    "plt.show()\n",
    "spread_outliers.head()"
   ]
  },
  {
   "cell_type": "markdown",
   "id": "70810045-0b5e-4dfe-bba1-fe6b0c2ea8d0",
   "metadata": {},
   "source": [
    "<hr/>"
   ]
  },
  {
   "cell_type": "markdown",
   "id": "cc0982a2-f528-49ee-ae07-6d611cb4c564",
   "metadata": {},
   "source": [
    "### 5.3 Outliers for Diameter\n",
    "Now repeat the analysis for diameter.\n",
    "<div style=\"background-color:lemonchiffon; border:1px solid; padding:5px; margin:5px; font-weight:bold\"><font color=\"crimson\">\n",
    "TODO: Complete the following code cells\n",
    "    </font></div>"
   ]
  },
  {
   "cell_type": "code",
   "execution_count": 55,
   "id": "f09b82f0-44c7-4b2c-b7d6-7b1059f8e424",
   "metadata": {},
   "outputs": [
    {
     "data": {
      "image/png": "[encoded data removed]",
      "text/plain": [
       "<Figure size 640x480 with 1 Axes>"
      ]
     },
     "metadata": {},
     "output_type": "display_data"
    }
   ],
   "source": [
    "# Use a boxplot to find the outliers\n",
    "# TODO\n",
    "trees.boxplot(\"Diameter In Centimetres At Breast Height\")\n",
    "plt.show()"
   ]
  },
  {
   "cell_type": "code",
   "execution_count": 60,
   "id": "6299642f-bf98-43da-a7bc-2880c88c002e",
   "metadata": {},
   "outputs": [
    {
     "data": {
      "image/png": "[encoded data removed]",
      "text/plain": [
       "<Figure size 640x480 with 1 Axes>"
      ]
     },
     "metadata": {},
     "output_type": "display_data"
    },
    {
     "data": {
      "text/html": [
       "<div>\n",
       "<style scoped>\n",
       "    .dataframe tbody tr th:only-of-type {\n",
       "        vertical-align: middle;\n",
       "    }\n",
       "\n",
       "    .dataframe tbody tr th {\n",
       "        vertical-align: top;\n",
       "    }\n",
       "\n",
       "    .dataframe thead th {\n",
       "        text-align: right;\n",
       "    }\n",
       "</style>\n",
       "<table border=\"1\" class=\"dataframe\">\n",
       "  <thead>\n",
       "    <tr style=\"text-align: right;\">\n",
       "      <th></th>\n",
       "      <th>Identifier</th>\n",
       "      <th>Number Of Trees</th>\n",
       "      <th>Site Name</th>\n",
       "      <th>Contract Area</th>\n",
       "      <th>Scientific Name</th>\n",
       "      <th>Inspection Date</th>\n",
       "      <th>Inspection Due Date</th>\n",
       "      <th>Height In Metres</th>\n",
       "      <th>Spread In Metres</th>\n",
       "      <th>Diameter In Centimetres At Breast Height</th>\n",
       "      <th>Ward Code</th>\n",
       "      <th>Ward Name</th>\n",
       "      <th>Easting</th>\n",
       "      <th>Northing</th>\n",
       "      <th>Longitude</th>\n",
       "      <th>Latitude</th>\n",
       "      <th>Location</th>\n",
       "    </tr>\n",
       "  </thead>\n",
       "  <tbody>\n",
       "    <tr>\n",
       "      <th>1157</th>\n",
       "      <td>00004100</td>\n",
       "      <td>1.0</td>\n",
       "      <td>LONGFORD STREET, CLARENCE GDNS (LS)</td>\n",
       "      <td>Parks</td>\n",
       "      <td>Platanus x hispanica</td>\n",
       "      <td>2018-03-29</td>\n",
       "      <td>2020/2021</td>\n",
       "      <td>21.0</td>\n",
       "      <td>20.0</td>\n",
       "      <td>228.0</td>\n",
       "      <td>E05000142</td>\n",
       "      <td>Regent's Park</td>\n",
       "      <td>528931</td>\n",
       "      <td>182624</td>\n",
       "      <td>-0.142766</td>\n",
       "      <td>51.527816</td>\n",
       "      <td>(51.527816, -0.142766)</td>\n",
       "    </tr>\n",
       "  </tbody>\n",
       "</table>\n",
       "</div>"
      ],
      "text/plain": [
       "     Identifier  Number Of Trees                            Site Name  \\\n",
       "1157   00004100              1.0  LONGFORD STREET, CLARENCE GDNS (LS)   \n",
       "\n",
       "     Contract Area       Scientific Name Inspection Date Inspection Due Date  \\\n",
       "1157         Parks  Platanus x hispanica      2018-03-29           2020/2021   \n",
       "\n",
       "      Height In Metres  Spread In Metres  \\\n",
       "1157              21.0              20.0   \n",
       "\n",
       "      Diameter In Centimetres At Breast Height  Ward Code      Ward Name  \\\n",
       "1157                                     228.0  E05000142  Regent's Park   \n",
       "\n",
       "      Easting  Northing  Longitude   Latitude                Location  \n",
       "1157   528931    182624  -0.142766  51.527816  (51.527816, -0.142766)  "
      ]
     },
     "execution_count": 60,
     "metadata": {},
     "output_type": "execute_result"
    }
   ],
   "source": [
    "# Select the outlier rows (if any)\n",
    "# TODO\n",
    "sorted_df = trees[trees[\"Diameter In Centimetres At Breast Height\"] > 220].sort_values(by= 'Diameter In Centimetres At Breast Height', ascending=False)\n",
    "below_200 = trees[trees[\"Diameter In Centimetres At Breast Height\"] < 220]\n",
    "below_200.boxplot(\"Diameter In Centimetres At Breast Height\")\n",
    "plt.show()\n",
    "sorted_df"
   ]
  },
  {
   "cell_type": "markdown",
   "id": "19fb2357-f25f-4840-b4a7-5a016256ff28",
   "metadata": {},
   "source": [
    "<hr/>\n",
    "\n",
    "### 5.4 Observations\n",
    "\n",
    "<div style=\"background-color:lemonchiffon; border:1px solid; padding:5px; margin:5px; font-weight:bold\"><font color=\"crimson\">\n",
    "TODO: Write down your observation about outliers in the data.  What assumptions did you make?  Were you comfortable making these assumptions?\n",
    "    </font></div>\n"
   ]
  },
  {
   "cell_type": "markdown",
   "id": "12f67262-3fe4-4238-8e6f-e04382b8594d",
   "metadata": {},
   "source": [
    "ENTER MARKDOWN HERE\n",
    "\n",
    "tree height that is more than 60m is the UK is rare and does not make sense. the climate does not allow for trees to grow as tall as 100 or more metres. The spread between the the two outliers form the other recorded measures is too great. \n",
    "The outlier in the spread in metres does not make sense. The spread of the outlier tree is 88m however the height is 8m. \n",
    "The outliers for the diameter in centimeters are closer together and start to spread when it starts to reach 175cm. there are still many trees with the diameter in the range of 175 - 200cm. After sorting the diameter from highest to lowest. it is a bit clearer that the top three trees do not quite make sense because the height of the trees are less than they typically should be for the diameter to be  as wide as they are."
   ]
  },
  {
   "cell_type": "markdown",
   "id": "bd36393a-8904-4be8-affe-1a99e5d4e69f",
   "metadata": {},
   "source": [
    "<hr/>"
   ]
  },
  {
   "cell_type": "markdown",
   "id": "a433b035-abc4-4ce2-b86e-484e698bd941",
   "metadata": {},
   "source": [
    "## Task 6: Identify Duplicates in the Trees Dataset\n",
    "Sometimes data has duplicate entries.  This is another sign of data quality issues!\n",
    "\n",
    "### 6.1 Find Duplicate Rows\n",
    "\n",
    "In our dataset the `Identifier` column should be unique.  Find out if it is!  We've already used a function that can count how many times each value in a column exists.  Use is to see if we have duplicates in the trees Dataframe.\n",
    "\n",
    "<div style=\"background-color:lemonchiffon; border:1px solid; padding:5px; margin:5px; font-weight:bold\"><font color=\"crimson\">\n",
    "TODO: Complete the following code cells\n",
    "    </font></div>"
   ]
  },
  {
   "cell_type": "code",
   "execution_count": 60,
   "id": "a40454f4-03e9-43b3-a0d8-6fcb756ba90b",
   "metadata": {},
   "outputs": [
    {
     "data": {
      "text/plain": [
       "6"
      ]
     },
     "execution_count": 60,
     "metadata": {},
     "output_type": "execute_result"
    }
   ],
   "source": [
    "# Find out if we have any duplicates\n",
    "# TODO\n",
    "trees[\"Identifier\"].duplicated().sum()"
   ]
  },
  {
   "cell_type": "markdown",
   "id": "787be537-4f13-466e-9a65-108d93563fc8",
   "metadata": {},
   "source": [
    "Now see if you can select the rows from trees DataFrame that are duplicates.  You will need to use the output from the cell above and use it to filter the trees dataframe."
   ]
  },
  {
   "cell_type": "code",
   "execution_count": 61,
   "id": "3d2fbdbf-c839-4e84-ad7c-add0f4fa31ef",
   "metadata": {},
   "outputs": [
    {
     "data": {
      "text/html": [
       "<div>\n",
       "<style scoped>\n",
       "    .dataframe tbody tr th:only-of-type {\n",
       "        vertical-align: middle;\n",
       "    }\n",
       "\n",
       "    .dataframe tbody tr th {\n",
       "        vertical-align: top;\n",
       "    }\n",
       "\n",
       "    .dataframe thead th {\n",
       "        text-align: right;\n",
       "    }\n",
       "</style>\n",
       "<table border=\"1\" class=\"dataframe\">\n",
       "  <thead>\n",
       "    <tr style=\"text-align: right;\">\n",
       "      <th></th>\n",
       "      <th>Identifier</th>\n",
       "      <th>Number Of Trees</th>\n",
       "      <th>Site Name</th>\n",
       "      <th>Contract Area</th>\n",
       "      <th>Scientific Name</th>\n",
       "      <th>Inspection Date</th>\n",
       "      <th>Inspection Due Date</th>\n",
       "      <th>Height In Metres</th>\n",
       "      <th>Spread In Metres</th>\n",
       "      <th>Diameter In Centimetres At Breast Height</th>\n",
       "      <th>Ward Code</th>\n",
       "      <th>Ward Name</th>\n",
       "      <th>Easting</th>\n",
       "      <th>Northing</th>\n",
       "      <th>Longitude</th>\n",
       "      <th>Latitude</th>\n",
       "      <th>Location</th>\n",
       "    </tr>\n",
       "  </thead>\n",
       "  <tbody>\n",
       "    <tr>\n",
       "      <th>6111</th>\n",
       "      <td>00032549</td>\n",
       "      <td>1.0</td>\n",
       "      <td>NARCISSUS ROAD</td>\n",
       "      <td>Highways</td>\n",
       "      <td>Betula albosinensis Fasc.</td>\n",
       "      <td>2018-09-19</td>\n",
       "      <td>2021/2022</td>\n",
       "      <td>9.0</td>\n",
       "      <td>6.0</td>\n",
       "      <td>19.0</td>\n",
       "      <td>E05000145</td>\n",
       "      <td>West Hampstead</td>\n",
       "      <td>525185</td>\n",
       "      <td>185127</td>\n",
       "      <td>-0.195840</td>\n",
       "      <td>51.551159</td>\n",
       "      <td>(51.551159, -0.19584)</td>\n",
       "    </tr>\n",
       "    <tr>\n",
       "      <th>9186</th>\n",
       "      <td>00022744</td>\n",
       "      <td>1.0</td>\n",
       "      <td>YORK WAY</td>\n",
       "      <td>Highways</td>\n",
       "      <td>Ailanthus altissima</td>\n",
       "      <td>2019-10-30</td>\n",
       "      <td>2022/2023</td>\n",
       "      <td>7.5</td>\n",
       "      <td>3.0</td>\n",
       "      <td>18.0</td>\n",
       "      <td>E05000131</td>\n",
       "      <td>Cantelowes</td>\n",
       "      <td>529983</td>\n",
       "      <td>184724</td>\n",
       "      <td>-0.126837</td>\n",
       "      <td>51.546447</td>\n",
       "      <td>(51.546447, -0.126837)</td>\n",
       "    </tr>\n",
       "    <tr>\n",
       "      <th>10972</th>\n",
       "      <td>00060088</td>\n",
       "      <td>1.0</td>\n",
       "      <td>FREDERICK STREET</td>\n",
       "      <td>Highways</td>\n",
       "      <td>Vacant Tree Pit (planned: Acer campestre eco s...</td>\n",
       "      <td>2019-11-09</td>\n",
       "      <td>2022/2023</td>\n",
       "      <td>NaN</td>\n",
       "      <td>NaN</td>\n",
       "      <td>NaN</td>\n",
       "      <td>E05000141</td>\n",
       "      <td>King's Cross</td>\n",
       "      <td>530770</td>\n",
       "      <td>182696</td>\n",
       "      <td>-0.116241</td>\n",
       "      <td>51.528046</td>\n",
       "      <td>(51.528046, -0.116241)</td>\n",
       "    </tr>\n",
       "    <tr>\n",
       "      <th>13098</th>\n",
       "      <td>00000999</td>\n",
       "      <td>1.0</td>\n",
       "      <td>ALMA STREET</td>\n",
       "      <td>Highways</td>\n",
       "      <td>Sorbus hupehensis</td>\n",
       "      <td>2017-07-25</td>\n",
       "      <td>2020/2021</td>\n",
       "      <td>5.0</td>\n",
       "      <td>4.0</td>\n",
       "      <td>18.0</td>\n",
       "      <td>E05000139</td>\n",
       "      <td>Kentish Town</td>\n",
       "      <td>528834</td>\n",
       "      <td>184856</td>\n",
       "      <td>-0.143337</td>\n",
       "      <td>51.547904</td>\n",
       "      <td>(51.547904, -0.143337)</td>\n",
       "    </tr>\n",
       "    <tr>\n",
       "      <th>13628</th>\n",
       "      <td>00022674</td>\n",
       "      <td>1.0</td>\n",
       "      <td>WOODSOME ROAD</td>\n",
       "      <td>Highways</td>\n",
       "      <td>Sorbus</td>\n",
       "      <td>2017-10-07</td>\n",
       "      <td>2020/2021</td>\n",
       "      <td>7.0</td>\n",
       "      <td>6.0</td>\n",
       "      <td>28.0</td>\n",
       "      <td>E05000137</td>\n",
       "      <td>Highgate</td>\n",
       "      <td>528515</td>\n",
       "      <td>186109</td>\n",
       "      <td>-0.147481</td>\n",
       "      <td>51.559237</td>\n",
       "      <td>(51.559237, -0.147481)</td>\n",
       "    </tr>\n",
       "    <tr>\n",
       "      <th>15653</th>\n",
       "      <td>00060087</td>\n",
       "      <td>1.0</td>\n",
       "      <td>ARGYLE SQUARE</td>\n",
       "      <td>Highways</td>\n",
       "      <td>Vacant Tree Pit (planned: Acer campestre eco s...</td>\n",
       "      <td>2019-11-09</td>\n",
       "      <td>2022/2023</td>\n",
       "      <td>NaN</td>\n",
       "      <td>NaN</td>\n",
       "      <td>NaN</td>\n",
       "      <td>E05000141</td>\n",
       "      <td>King's Cross</td>\n",
       "      <td>530342</td>\n",
       "      <td>182839</td>\n",
       "      <td>-0.122352</td>\n",
       "      <td>51.529428</td>\n",
       "      <td>(51.529428, -0.122352)</td>\n",
       "    </tr>\n",
       "  </tbody>\n",
       "</table>\n",
       "</div>"
      ],
      "text/plain": [
       "      Identifier  Number Of Trees         Site Name Contract Area  \\\n",
       "6111    00032549              1.0    NARCISSUS ROAD      Highways   \n",
       "9186    00022744              1.0          YORK WAY      Highways   \n",
       "10972   00060088              1.0  FREDERICK STREET      Highways   \n",
       "13098   00000999              1.0       ALMA STREET      Highways   \n",
       "13628   00022674              1.0     WOODSOME ROAD      Highways   \n",
       "15653   00060087              1.0     ARGYLE SQUARE      Highways   \n",
       "\n",
       "                                         Scientific Name Inspection Date  \\\n",
       "6111                           Betula albosinensis Fasc.      2018-09-19   \n",
       "9186                                 Ailanthus altissima      2019-10-30   \n",
       "10972  Vacant Tree Pit (planned: Acer campestre eco s...      2019-11-09   \n",
       "13098                                  Sorbus hupehensis      2017-07-25   \n",
       "13628                                             Sorbus      2017-10-07   \n",
       "15653  Vacant Tree Pit (planned: Acer campestre eco s...      2019-11-09   \n",
       "\n",
       "      Inspection Due Date  Height In Metres  Spread In Metres  \\\n",
       "6111            2021/2022               9.0               6.0   \n",
       "9186            2022/2023               7.5               3.0   \n",
       "10972           2022/2023               NaN               NaN   \n",
       "13098           2020/2021               5.0               4.0   \n",
       "13628           2020/2021               7.0               6.0   \n",
       "15653           2022/2023               NaN               NaN   \n",
       "\n",
       "       Diameter In Centimetres At Breast Height  Ward Code       Ward Name  \\\n",
       "6111                                       19.0  E05000145  West Hampstead   \n",
       "9186                                       18.0  E05000131      Cantelowes   \n",
       "10972                                       NaN  E05000141    King's Cross   \n",
       "13098                                      18.0  E05000139    Kentish Town   \n",
       "13628                                      28.0  E05000137        Highgate   \n",
       "15653                                       NaN  E05000141    King's Cross   \n",
       "\n",
       "       Easting  Northing  Longitude   Latitude                Location  \n",
       "6111    525185    185127  -0.195840  51.551159   (51.551159, -0.19584)  \n",
       "9186    529983    184724  -0.126837  51.546447  (51.546447, -0.126837)  \n",
       "10972   530770    182696  -0.116241  51.528046  (51.528046, -0.116241)  \n",
       "13098   528834    184856  -0.143337  51.547904  (51.547904, -0.143337)  \n",
       "13628   528515    186109  -0.147481  51.559237  (51.559237, -0.147481)  \n",
       "15653   530342    182839  -0.122352  51.529428  (51.529428, -0.122352)  "
      ]
     },
     "execution_count": 61,
     "metadata": {},
     "output_type": "execute_result"
    }
   ],
   "source": [
    "# Select the rows that are duplicated\n",
    "# TODO\n",
    "trees[trees.duplicated('Identifier', keep='first')]\n"
   ]
  },
  {
   "cell_type": "markdown",
   "id": "a74e447b-7ae5-43f3-a189-94c066fe6fc0",
   "metadata": {},
   "source": [
    "<hr/>\n",
    "\n",
    "### 6.2 Observations\n",
    "\n",
    "<div style=\"background-color:lemonchiffon; border:1px solid; padding:5px; margin:5px; font-weight:bold\"><font color=\"crimson\">\n",
    "TODO: Write down your observations about duplicates in trees.\n",
    "    </font></div>\n"
   ]
  },
  {
   "cell_type": "markdown",
   "id": "7aaa910b-ccc4-4f78-80cd-467b683fe2e1",
   "metadata": {},
   "source": [
    "ENTER MARKDOWN HERE\n",
    "\n",
    "There are a total of 6 duplicates and they are all in the highway contract area. "
   ]
  },
  {
   "cell_type": "markdown",
   "id": "d0f41ea4-112c-4ea9-96a5-ca76e4b972b3",
   "metadata": {},
   "source": [
    "<hr/>"
   ]
  },
  {
   "cell_type": "markdown",
   "id": "59990f3e-6f73-46ee-8644-2dc503baa93a",
   "metadata": {},
   "source": [
    "## Task 7: Identify Geolocation Issues\n",
    "The geographic coordinates (Easting and Northing) can be used to plot the trees on a map.  We can use this approach to see if there are any unusual tree locations!\n",
    "\n",
    "We will make a copy of the original trees dataset and remove any rows that have a missing easting or northing as these can't be plotted on the map.\n",
    "\n",
    "We can copy the DataFrame using:\n",
    "\n",
    "- [pandas.DataFrame.copy](https://pandas.pydata.org/pandas-docs/stable/reference/api/pandas.DataFrame.copy.html)\n",
    "\n",
    "We can use the DataFrame filtering technique we saw before to remove the missing values.  E.g. the following code filters out rows where the value for 'mycolumn' is 100:\n",
    "\n",
    "    mask = df['mycolumn'] != 100\n",
    "    df = df[mask]\n",
    "\n",
    "You can also create masks using a function, e.g. this creates a mask which excludes nulls:\n",
    "\n",
    "    mask = df['mycolumn'].isnull()\n",
    "\n",
    "We can use this function to plot the trees on a map. Set x to \"Easting\" and y to \"Northing\" and set a figsize parameter to (6, 6) to get a square aspect ratio:\n",
    "\n",
    "- [pandas.DataFrame.plot.scatter](https://pandas.pydata.org/pandas-docs/version/0.25.0/reference/api/pandas.DataFrame.plot.scatter.html)\n",
    "\n",
    "\n"
   ]
  },
  {
   "cell_type": "markdown",
   "id": "0bdaf281-68a3-43d4-abb6-f3c42a088f7f",
   "metadata": {},
   "source": [
    "### 7.1 Remove Trees with Missing Geo-coordinates\n",
    "Check if there are any rows with null or 0 geo-coordinates.  If there are, remove them as we can't plot these.\n",
    "\n",
    "<div style=\"background-color:lemonchiffon; border:1px solid; padding:5px; margin:5px; font-weight:bold\"><font color=\"crimson\">\n",
    "TODO: Complete the following code cells\n",
    "    </font></div>"
   ]
  },
  {
   "cell_type": "code",
   "execution_count": 62,
   "id": "913c1d69-b105-44aa-be2f-73b537313c6e",
   "metadata": {},
   "outputs": [
    {
     "data": {
      "text/plain": [
       "(23444, 17)"
      ]
     },
     "execution_count": 62,
     "metadata": {},
     "output_type": "execute_result"
    }
   ],
   "source": [
    "# Make a copy of the trees\n",
    "geotrees = trees.copy()\n",
    "geotrees.shape"
   ]
  },
  {
   "cell_type": "code",
   "execution_count": 66,
   "id": "3a9b5bf6-bda3-472f-9796-060023cff4e8",
   "metadata": {},
   "outputs": [
    {
     "data": {
      "text/plain": [
       "(23444, 17)"
      ]
     },
     "execution_count": 66,
     "metadata": {},
     "output_type": "execute_result"
    }
   ],
   "source": [
    "# Remove null Eastings\n",
    "# TODO\n",
    "geotrees = geotrees[geotrees['Easting'].notna()]\n",
    "geotrees.shape"
   ]
  },
  {
   "cell_type": "code",
   "execution_count": 67,
   "id": "7f77324a-f2e4-4d69-a0fe-1d71757c6f6e",
   "metadata": {},
   "outputs": [
    {
     "data": {
      "text/plain": [
       "(23388, 17)"
      ]
     },
     "execution_count": 67,
     "metadata": {},
     "output_type": "execute_result"
    }
   ],
   "source": [
    "# Remove 0 Eastings.  \n",
    "# TODO\n",
    "geotrees = geotrees[geotrees['Easting'] !=0]\n",
    "geotrees.shape"
   ]
  },
  {
   "cell_type": "code",
   "execution_count": 68,
   "id": "40ccb789-0cab-4218-9caa-e7e08b2b71ae",
   "metadata": {},
   "outputs": [
    {
     "data": {
      "text/plain": [
       "(23388, 17)"
      ]
     },
     "execution_count": 68,
     "metadata": {},
     "output_type": "execute_result"
    }
   ],
   "source": [
    "# Remove null Northings\n",
    "# TODO\n",
    "geotrees = geotrees[geotrees['Northing'].notna()]\n",
    "geotrees.shape"
   ]
  },
  {
   "cell_type": "code",
   "execution_count": 69,
   "id": "c77858c5-99e7-4f1f-affa-bd2370b9aed8",
   "metadata": {},
   "outputs": [
    {
     "data": {
      "text/plain": [
       "(23388, 17)"
      ]
     },
     "execution_count": 69,
     "metadata": {},
     "output_type": "execute_result"
    }
   ],
   "source": [
    "# Remove 0 Northings.  \n",
    "# TODO\n",
    "geotrees = geotrees[geotrees['Northing'] != 0]\n",
    "geotrees.shape"
   ]
  },
  {
   "cell_type": "code",
   "execution_count": 70,
   "id": "616a5473-5d71-486a-9ea0-c401fc7f4428",
   "metadata": {},
   "outputs": [
    {
     "data": {
      "text/plain": [
       "(23388, 17)"
      ]
     },
     "execution_count": 70,
     "metadata": {},
     "output_type": "execute_result"
    }
   ],
   "source": [
    "# Confirm how many rows we have\n",
    "# TODO\n",
    "geotrees.shape"
   ]
  },
  {
   "cell_type": "markdown",
   "id": "a63dbcfc-e781-4812-9a10-1cf5be028dae",
   "metadata": {},
   "source": [
    "<hr/>"
   ]
  },
  {
   "cell_type": "markdown",
   "id": "d1e84a3c-7eed-408a-a724-3944d89e0755",
   "metadata": {},
   "source": [
    "### 7.2 Plot Map of Trees\n",
    "Now make the plot.  Do a scatter plot of Northing vs Easting. You should obtain an outline of the map of Camden. Compare that outline with a real map of Camden (use good old google maps!). You’ll be able to spot the trees that should not be in that dataset from there!\n",
    "\n",
    "<div style=\"background-color:lemonchiffon; border:1px solid; padding:5px; margin:5px; font-weight:bold\"><font color=\"crimson\">\n",
    "TODO: Complete the following code cell\n",
    "    </font></div>"
   ]
  },
  {
   "cell_type": "code",
   "execution_count": 71,
   "id": "b51e227f-bd09-4064-9f60-be766962646d",
   "metadata": {},
   "outputs": [
    {
     "data": {
      "image/png": "[encoded data removed]",
      "text/plain": [
       "<Figure size 600x600 with 1 Axes>"
      ]
     },
     "metadata": {},
     "output_type": "display_data"
    }
   ],
   "source": [
    "# Plot the trees on a map\n",
    "# TODO\n",
    "#lot.scatter(trees['Easting'], trees['Northing'])\n",
    "#eotrees.plot.scatter('Easting', 'Northing')\n",
    "#lt.show()\n",
    "geotrees.plot.scatter(x='Easting', y='Northing', figsize=(6, 6))\n",
    "plt.show()"
   ]
  },
  {
   "cell_type": "markdown",
   "id": "6914e59e-aaeb-4b9b-8a84-b4007e2ad747",
   "metadata": {},
   "source": [
    "### 7.3 Find Trees Outside Camden\n",
    "From the scatter plot, you should be able to determine how to select the rows from the trees data set containing the offending trees (using the Easting and Northing values)\n",
    "\n",
    "Select the rows containing trees outside of Camden.  Use the filter technique again.\n",
    "\n",
    "<div style=\"background-color:lemonchiffon; border:1px solid; padding:5px; margin:5px; font-weight:bold\"><font color=\"crimson\">\n",
    "TODO: Complete the following code cells\n",
    "    </font></div>"
   ]
  },
  {
   "cell_type": "code",
   "execution_count": 72,
   "id": "4b992a8f-d5be-4adb-a383-4f8e5505b2ed",
   "metadata": {},
   "outputs": [
    {
     "data": {
      "image/png": "[encoded data removed]",
      "text/plain": [
       "<Figure size 600x600 with 1 Axes>"
      ]
     },
     "metadata": {},
     "output_type": "display_data"
    },
    {
     "data": {
      "text/html": [
       "<div>\n",
       "<style scoped>\n",
       "    .dataframe tbody tr th:only-of-type {\n",
       "        vertical-align: middle;\n",
       "    }\n",
       "\n",
       "    .dataframe tbody tr th {\n",
       "        vertical-align: top;\n",
       "    }\n",
       "\n",
       "    .dataframe thead th {\n",
       "        text-align: right;\n",
       "    }\n",
       "</style>\n",
       "<table border=\"1\" class=\"dataframe\">\n",
       "  <thead>\n",
       "    <tr style=\"text-align: right;\">\n",
       "      <th></th>\n",
       "      <th>Identifier</th>\n",
       "      <th>Number Of Trees</th>\n",
       "      <th>Site Name</th>\n",
       "      <th>Contract Area</th>\n",
       "      <th>Scientific Name</th>\n",
       "      <th>Inspection Date</th>\n",
       "      <th>Inspection Due Date</th>\n",
       "      <th>Height In Metres</th>\n",
       "      <th>Spread In Metres</th>\n",
       "      <th>Diameter In Centimetres At Breast Height</th>\n",
       "      <th>Ward Code</th>\n",
       "      <th>Ward Name</th>\n",
       "      <th>Easting</th>\n",
       "      <th>Northing</th>\n",
       "      <th>Longitude</th>\n",
       "      <th>Latitude</th>\n",
       "      <th>Location</th>\n",
       "    </tr>\n",
       "  </thead>\n",
       "  <tbody>\n",
       "    <tr>\n",
       "      <th>78</th>\n",
       "      <td>00044991</td>\n",
       "      <td>1.0</td>\n",
       "      <td>Bells Hill Estate</td>\n",
       "      <td>Housing</td>\n",
       "      <td>Fraxinus excelsior</td>\n",
       "      <td>2017-04-28</td>\n",
       "      <td>2020/2021</td>\n",
       "      <td>20.0</td>\n",
       "      <td>10.0</td>\n",
       "      <td>49.0</td>\n",
       "      <td>NaN</td>\n",
       "      <td>NaN</td>\n",
       "      <td>523883</td>\n",
       "      <td>196179</td>\n",
       "      <td>-0.210713</td>\n",
       "      <td>51.650765</td>\n",
       "      <td>(51.650765, -0.210713)</td>\n",
       "    </tr>\n",
       "    <tr>\n",
       "      <th>298</th>\n",
       "      <td>00045000</td>\n",
       "      <td>1.0</td>\n",
       "      <td>Estate 167 Furzehill Road</td>\n",
       "      <td>Housing</td>\n",
       "      <td>Pinus sylvestris</td>\n",
       "      <td>2017-04-28</td>\n",
       "      <td>2020/2021</td>\n",
       "      <td>10.0</td>\n",
       "      <td>3.0</td>\n",
       "      <td>41.0</td>\n",
       "      <td>NaN</td>\n",
       "      <td>NaN</td>\n",
       "      <td>520367</td>\n",
       "      <td>195595</td>\n",
       "      <td>-0.261719</td>\n",
       "      <td>51.646283</td>\n",
       "      <td>(51.646283, -0.261719)</td>\n",
       "    </tr>\n",
       "    <tr>\n",
       "      <th>660</th>\n",
       "      <td>00044992</td>\n",
       "      <td>1.0</td>\n",
       "      <td>Bells Hill Estate</td>\n",
       "      <td>Housing</td>\n",
       "      <td>Crataegus monogyna</td>\n",
       "      <td>2017-04-28</td>\n",
       "      <td>2020/2021</td>\n",
       "      <td>4.0</td>\n",
       "      <td>4.0</td>\n",
       "      <td>7.0</td>\n",
       "      <td>NaN</td>\n",
       "      <td>NaN</td>\n",
       "      <td>523875</td>\n",
       "      <td>196170</td>\n",
       "      <td>-0.210830</td>\n",
       "      <td>51.650690</td>\n",
       "      <td>(51.65069, -0.21083)</td>\n",
       "    </tr>\n",
       "    <tr>\n",
       "      <th>1526</th>\n",
       "      <td>00044995</td>\n",
       "      <td>1.0</td>\n",
       "      <td>Bells Hill Estate</td>\n",
       "      <td>Housing</td>\n",
       "      <td>Fraxinus excelsior</td>\n",
       "      <td>2017-04-28</td>\n",
       "      <td>2020/2021</td>\n",
       "      <td>18.0</td>\n",
       "      <td>12.0</td>\n",
       "      <td>54.0</td>\n",
       "      <td>NaN</td>\n",
       "      <td>NaN</td>\n",
       "      <td>523936</td>\n",
       "      <td>196127</td>\n",
       "      <td>-0.209969</td>\n",
       "      <td>51.650287</td>\n",
       "      <td>(51.650287, -0.209969)</td>\n",
       "    </tr>\n",
       "    <tr>\n",
       "      <th>5392</th>\n",
       "      <td>00044990</td>\n",
       "      <td>1.0</td>\n",
       "      <td>Bells Hill Estate</td>\n",
       "      <td>Housing</td>\n",
       "      <td>Aesculus hippocastanum</td>\n",
       "      <td>2017-04-28</td>\n",
       "      <td>2020/2021</td>\n",
       "      <td>22.0</td>\n",
       "      <td>12.0</td>\n",
       "      <td>67.0</td>\n",
       "      <td>NaN</td>\n",
       "      <td>NaN</td>\n",
       "      <td>523889</td>\n",
       "      <td>196188</td>\n",
       "      <td>-0.210618</td>\n",
       "      <td>51.650843</td>\n",
       "      <td>(51.650843, -0.210618)</td>\n",
       "    </tr>\n",
       "    <tr>\n",
       "      <th>18069</th>\n",
       "      <td>00044993</td>\n",
       "      <td>1.0</td>\n",
       "      <td>Bells Hill Estate</td>\n",
       "      <td>Housing</td>\n",
       "      <td>Tilia cordata</td>\n",
       "      <td>2017-04-28</td>\n",
       "      <td>2020/2021</td>\n",
       "      <td>23.0</td>\n",
       "      <td>14.0</td>\n",
       "      <td>89.0</td>\n",
       "      <td>NaN</td>\n",
       "      <td>NaN</td>\n",
       "      <td>523867</td>\n",
       "      <td>196159</td>\n",
       "      <td>-0.210957</td>\n",
       "      <td>51.650590</td>\n",
       "      <td>(51.65059, -0.210957)</td>\n",
       "    </tr>\n",
       "    <tr>\n",
       "      <th>18078</th>\n",
       "      <td>00044601</td>\n",
       "      <td>1.0</td>\n",
       "      <td>Bells Hill Estate</td>\n",
       "      <td>Housing</td>\n",
       "      <td>Tilia cordata</td>\n",
       "      <td>2017-04-28</td>\n",
       "      <td>2020/2021</td>\n",
       "      <td>21.0</td>\n",
       "      <td>12.0</td>\n",
       "      <td>56.0</td>\n",
       "      <td>NaN</td>\n",
       "      <td>NaN</td>\n",
       "      <td>523905</td>\n",
       "      <td>196174</td>\n",
       "      <td>-0.210394</td>\n",
       "      <td>51.650719</td>\n",
       "      <td>(51.650719, -0.210394)</td>\n",
       "    </tr>\n",
       "    <tr>\n",
       "      <th>19532</th>\n",
       "      <td>00044988</td>\n",
       "      <td>1.0</td>\n",
       "      <td>Bells Hill Estate</td>\n",
       "      <td>Housing</td>\n",
       "      <td>Tilia cordata</td>\n",
       "      <td>2017-04-28</td>\n",
       "      <td>2020/2021</td>\n",
       "      <td>21.0</td>\n",
       "      <td>12.0</td>\n",
       "      <td>65.0</td>\n",
       "      <td>NaN</td>\n",
       "      <td>NaN</td>\n",
       "      <td>523909</td>\n",
       "      <td>196169</td>\n",
       "      <td>-0.210340</td>\n",
       "      <td>51.650676</td>\n",
       "      <td>(51.650676, -0.21034)</td>\n",
       "    </tr>\n",
       "  </tbody>\n",
       "</table>\n",
       "</div>"
      ],
      "text/plain": [
       "      Identifier  Number Of Trees                  Site Name Contract Area  \\\n",
       "78      00044991              1.0          Bells Hill Estate       Housing   \n",
       "298     00045000              1.0  Estate 167 Furzehill Road       Housing   \n",
       "660     00044992              1.0          Bells Hill Estate       Housing   \n",
       "1526    00044995              1.0          Bells Hill Estate       Housing   \n",
       "5392    00044990              1.0          Bells Hill Estate       Housing   \n",
       "18069   00044993              1.0          Bells Hill Estate       Housing   \n",
       "18078   00044601              1.0          Bells Hill Estate       Housing   \n",
       "19532   00044988              1.0          Bells Hill Estate       Housing   \n",
       "\n",
       "              Scientific Name Inspection Date Inspection Due Date  \\\n",
       "78         Fraxinus excelsior      2017-04-28           2020/2021   \n",
       "298          Pinus sylvestris      2017-04-28           2020/2021   \n",
       "660        Crataegus monogyna      2017-04-28           2020/2021   \n",
       "1526       Fraxinus excelsior      2017-04-28           2020/2021   \n",
       "5392   Aesculus hippocastanum      2017-04-28           2020/2021   \n",
       "18069           Tilia cordata      2017-04-28           2020/2021   \n",
       "18078           Tilia cordata      2017-04-28           2020/2021   \n",
       "19532           Tilia cordata      2017-04-28           2020/2021   \n",
       "\n",
       "       Height In Metres  Spread In Metres  \\\n",
       "78                 20.0              10.0   \n",
       "298                10.0               3.0   \n",
       "660                 4.0               4.0   \n",
       "1526               18.0              12.0   \n",
       "5392               22.0              12.0   \n",
       "18069              23.0              14.0   \n",
       "18078              21.0              12.0   \n",
       "19532              21.0              12.0   \n",
       "\n",
       "       Diameter In Centimetres At Breast Height Ward Code Ward Name  Easting  \\\n",
       "78                                         49.0       NaN       NaN   523883   \n",
       "298                                        41.0       NaN       NaN   520367   \n",
       "660                                         7.0       NaN       NaN   523875   \n",
       "1526                                       54.0       NaN       NaN   523936   \n",
       "5392                                       67.0       NaN       NaN   523889   \n",
       "18069                                      89.0       NaN       NaN   523867   \n",
       "18078                                      56.0       NaN       NaN   523905   \n",
       "19532                                      65.0       NaN       NaN   523909   \n",
       "\n",
       "       Northing  Longitude   Latitude                Location  \n",
       "78       196179  -0.210713  51.650765  (51.650765, -0.210713)  \n",
       "298      195595  -0.261719  51.646283  (51.646283, -0.261719)  \n",
       "660      196170  -0.210830  51.650690    (51.65069, -0.21083)  \n",
       "1526     196127  -0.209969  51.650287  (51.650287, -0.209969)  \n",
       "5392     196188  -0.210618  51.650843  (51.650843, -0.210618)  \n",
       "18069    196159  -0.210957  51.650590   (51.65059, -0.210957)  \n",
       "18078    196174  -0.210394  51.650719  (51.650719, -0.210394)  \n",
       "19532    196169  -0.210340  51.650676   (51.650676, -0.21034)  "
      ]
     },
     "execution_count": 72,
     "metadata": {},
     "output_type": "execute_result"
    }
   ],
   "source": [
    "# Select the outlier rows\n",
    "# TODO\n",
    "#geotrees[geotrees[\"Northing\"] > 192000]\n",
    "#non_outlier_trees = trees.loc[(trees[\"Northing\"] < 192000) & (trees[\"Easting\"] > 522000)\n",
    "#outlier_trees = trees.loc[(trees[\"Northing\"] < 192000)]\n",
    "#non_outlier_trees.plot.scatter(x='Easting', y='Northing', figsize=(6, 6))\n",
    "#outlier_trees\n",
    "# Select the outlier rows and output the data of the outlier trees\n",
    "# Plot the map again without the outliers\n",
    "non_outlier_trees = trees.loc[(trees[\"Northing\"] < 192000) & (trees[\"Easting\"] > 522000)]\n",
    "outlier_trees = trees.loc[(trees[\"Northing\"] > 192000)]\n",
    "non_outlier_trees.plot.scatter(x= \"Easting\", y= \"Northing\", figsize=(6, 6))\n",
    "plt.show()\n",
    "outlier_trees"
   ]
  },
  {
   "cell_type": "code",
   "execution_count": 74,
   "id": "0270dae9-9bcf-4b63-95cf-13b7c5184424",
   "metadata": {},
   "outputs": [
    {
     "data": {
      "text/plain": [
       "(23380, 17)"
      ]
     },
     "execution_count": 74,
     "metadata": {},
     "output_type": "execute_result"
    }
   ],
   "source": [
    "# Confirm how many rows we have\n",
    "# TODO\n",
    "non_outlier_trees.shape"
   ]
  },
  {
   "cell_type": "markdown",
   "id": "ee3f0cff-17bb-4f75-a92c-876c56e230c5",
   "metadata": {},
   "source": [
    "<hr/>\n",
    "\n",
    "### 7.4 Observations\n",
    "\n",
    "\n",
    "<div style=\"background-color:lemonchiffon; border:1px solid; padding:5px; margin:5px; font-weight:bold\"><font color=\"crimson\">\n",
    "TODO: Write down your observation about geolocation issues.\n",
    "    </font></div>\n"
   ]
  },
  {
   "cell_type": "markdown",
   "id": "3f5a1605-de7e-4cb7-8190-c643122c104e",
   "metadata": {},
   "source": [
    "ENTER MARKDOWN HERE\n",
    "some outlier trees were outside of camden and they have been removed from the data\n",
    "i removed 8 rows from the original rows\n"
   ]
  },
  {
   "cell_type": "markdown",
   "id": "0680cf79-2a3a-4e9c-8332-609680b69040",
   "metadata": {},
   "source": [
    "<hr/>"
   ]
  },
  {
   "cell_type": "markdown",
   "id": "2c6f941f-e14a-4a51-aa29-66010910009a",
   "metadata": {
    "tags": []
   },
   "source": [
    "## Task 8: Identify Unmatched Data\n",
    "We have multiple datasets that will need to be joined together to produce the analyses required by the Camden Parks and Open Spaces team.  The data will need to be joined in the following way:\n",
    "\n",
    "- Use the `Identifier` column in the trees dataset to match to the `Identifier` column in the environmental data set (so we can bring in the environmental data for each tree)\n",
    "- Use the `Scientific Name` column in the trees dataset to match to the `Scientific Name` column in the common names data set (so we can look up the `Common Name`)\n",
    "\n",
    "There may be mismatches in the data.  Of particular concern we want to check\n",
    "\n",
    "- That every tree in the trees dataset has matching environmental data in the environmental data set\n",
    "- That every environmental row in the environmental dataset has matching tree data in the tree data set\n",
    "- That every scientific name in the trees dataset has a matching common name in the common names data set\n",
    "\n",
    "We aren't too concerned about the reverse of the last scenario (if we have extra names in the common names dataset that aren't in the trees data set).  We don't expect Camden to have a specimen of every tree that exists!  \n",
    "\n",
    "There are a few ways this can be done, but one technique is to use the `isin` function to check if some column in one dataframe contains values that are in another column in another dataframe.  This creates a mask containing rows that match between the two dataframes:\n",
    "\n",
    "    mask = df1['column_name1'].isin(df2['column_name2'])\n",
    "    \n",
    "To select the non-matching rows, we can use Python's bitwise not operator ~:\n",
    "\n",
    "    mask = ~df1['column_name1'].isin(df2['column_name2'])\n",
    "    \n",
    "As we have seen before, the mask can be used to select that subset of rows back from the original dataframe."
   ]
  },
  {
   "cell_type": "markdown",
   "id": "1f5064f7-e956-4420-b80c-f14c2d2d3427",
   "metadata": {},
   "source": [
    "### 8.1 Find Trees that Don't have Matching Environmental Data\n",
    "<div style=\"background-color:lemonchiffon; border:1px solid; padding:5px; margin:5px; font-weight:bold\"><font color=\"crimson\">\n",
    "TODO: Complete the following code cells\n",
    "    </font></div>"
   ]
  },
  {
   "cell_type": "code",
   "execution_count": 80,
   "id": "ec5e5506-1c6f-4f33-92d1-420ea57b6da5",
   "metadata": {},
   "outputs": [
    {
     "data": {
      "text/plain": [
       "(23, 17)"
      ]
     },
     "execution_count": 80,
     "metadata": {},
     "output_type": "execute_result"
    }
   ],
   "source": [
    "# Find trees that don't have matching environmental data\n",
    "# TODO\n",
    "mask = ~trees['Identifier'].isin(environmental['Identifier'])\n",
    "trees[mask].shape"
   ]
  },
  {
   "cell_type": "code",
   "execution_count": 82,
   "id": "36cabc0b-2d67-4a8d-8d85-6d3d3b40acfb",
   "metadata": {},
   "outputs": [
    {
     "data": {
      "text/plain": [
       "(23421, 17)"
      ]
     },
     "execution_count": 82,
     "metadata": {},
     "output_type": "execute_result"
    }
   ],
   "source": [
    "# Confirm how many rows we have\n",
    "# TODO\n",
    "trees[trees['Identifier'].isin(environmental['Identifier'])].shape"
   ]
  },
  {
   "cell_type": "markdown",
   "id": "163e0301-fae2-41cc-a7a7-11a31b9e0499",
   "metadata": {},
   "source": [
    "### 8.2 Find Environmental Data that Doesn't have Matching Tree Data\n",
    "<div style=\"background-color:lemonchiffon; border:1px solid; padding:5px; margin:5px; font-weight:bold\"><font color=\"crimson\">\n",
    "TODO: Complete the following code cells\n",
    "    </font></div>"
   ]
  },
  {
   "cell_type": "code",
   "execution_count": 86,
   "id": "17727576-c7c3-487a-87d1-d27d326f661c",
   "metadata": {},
   "outputs": [
    {
     "data": {
      "text/plain": [
       "(0, 9)"
      ]
     },
     "execution_count": 86,
     "metadata": {},
     "output_type": "execute_result"
    }
   ],
   "source": [
    "# Find environmental data that doesn't have matching tree data\n",
    "# TODO\n",
    "mask2 = ~environmental['Identifier'].isin(trees['Identifier'])\n",
    "environmental[mask2].shape"
   ]
  },
  {
   "cell_type": "code",
   "execution_count": 84,
   "id": "7c562a4f-6a70-4e53-8dc5-c2ebd3a1417f",
   "metadata": {},
   "outputs": [
    {
     "data": {
      "text/plain": [
       "(23415, 9)"
      ]
     },
     "execution_count": 84,
     "metadata": {},
     "output_type": "execute_result"
    }
   ],
   "source": [
    "# Confirm how many rows we have\n",
    "# TODO\n",
    "environmental[environmental['Identifier'].isin(trees['Identifier'])].shape"
   ]
  },
  {
   "cell_type": "markdown",
   "id": "ce4445b4-53db-4d95-82b6-4af1088046bf",
   "metadata": {},
   "source": [
    "### 8.3 Find Trees that Don't have Matching Common Names Data\n",
    "<div style=\"background-color:lemonchiffon; border:1px solid; padding:5px; margin:5px; font-weight:bold\"><font color=\"crimson\">\n",
    "TODO: Complete the following code cells\n",
    "    </font></div>"
   ]
  },
  {
   "cell_type": "code",
   "execution_count": 88,
   "id": "f66f9bfd-6bfc-4faf-946e-d5d8f6cbb4b6",
   "metadata": {},
   "outputs": [
    {
     "data": {
      "text/plain": [
       "(76, 17)"
      ]
     },
     "execution_count": 88,
     "metadata": {},
     "output_type": "execute_result"
    }
   ],
   "source": [
    "# Find trees with scientific names that don't have matching common names data\n",
    "# TODO\n",
    "mask3 = ~trees['Scientific Name'].isin(names['Scientific Name'])\n",
    "trees[mask3].shape"
   ]
  },
  {
   "cell_type": "code",
   "execution_count": 89,
   "id": "183f5951-2c4e-486a-beb9-68abc8be8674",
   "metadata": {},
   "outputs": [
    {
     "data": {
      "text/plain": [
       "(23368, 17)"
      ]
     },
     "execution_count": 89,
     "metadata": {},
     "output_type": "execute_result"
    }
   ],
   "source": [
    "# Confirm how many rows we have\n",
    "# TODO\n",
    "trees[trees['Scientific Name'].isin(names['Scientific Name'])].shape"
   ]
  },
  {
   "cell_type": "markdown",
   "id": "28a9ce1a-e0d6-42b2-b83a-bfb1c1a21f75",
   "metadata": {},
   "source": [
    "<hr/>\n",
    "\n",
    "### 8.4 Observations\n",
    "\n",
    "<div style=\"background-color:lemonchiffon; border:1px solid; padding:5px; margin:5px; font-weight:bold\"><font color=\"crimson\">\n",
    "TODO: Write down your observation about unmatched data issues.\n",
    "    </font></div>\n"
   ]
  },
  {
   "cell_type": "markdown",
   "id": "80b550e2-3d7e-44af-990a-cc59b070c269",
   "metadata": {},
   "source": [
    "ENTER MARKDOWN HERE\n",
    "there are 23 trees that do not have matching enviromental data. however all enviromental data have matching trees. there 0 unmached data in the envirometal data set. There are 76, trees with scientific names but do not have common names."
   ]
  },
  {
   "cell_type": "markdown",
   "id": "663f0130-1aee-4590-b6d3-ddc531035415",
   "metadata": {},
   "source": [
    "<hr/>"
   ]
  },
  {
   "cell_type": "markdown",
   "id": "ecb4c78f-147a-4cb7-b646-1de2d365c5e5",
   "metadata": {},
   "source": [
    "# END OF NOTEBOOK"
   ]
  },
  {
   "cell_type": "code",
   "execution_count": null,
   "id": "23027640-3750-4ea5-9057-e81626698bdb",
   "metadata": {},
   "outputs": [],
   "source": []
  }
 ],
 "metadata": {
  "kernelspec": {
   "display_name": "Python 3 (ipykernel)",
   "language": "python",
   "name": "python3"
  },
  "language_info": {
   "codemirror_mode": {
    "name": "ipython",
    "version": 3
   },
   "file_extension": ".py",
   "mimetype": "text/x-python",
   "name": "python",
   "nbconvert_exporter": "python",
   "pygments_lexer": "ipython3",
   "version": "3.11.4"
  },
  "toc": {
   "base_numbering": 1,
   "nav_menu": {},
   "number_sections": true,
   "sideBar": true,
   "skip_h1_title": false,
   "title_cell": "Table of Contents",
   "title_sidebar": "Contents",
   "toc_cell": false,
   "toc_position": {
    "height": "calc(100% - 180px)",
    "left": "10px",
    "top": "150px",
    "width": "341.325px"
   },
   "toc_section_display": true,
   "toc_window_display": true
  }
 },
 "nbformat": 4,
 "nbformat_minor": 5
}
